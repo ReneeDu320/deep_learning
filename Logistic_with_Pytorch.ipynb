{
  "nbformat": 4,
  "nbformat_minor": 0,
  "metadata": {
    "colab": {
      "provenance": [],
      "authorship_tag": "ABX9TyO+uBaBaaKC45PaOwUaZGoR"
    },
    "kernelspec": {
      "name": "python3",
      "display_name": "Python 3"
    },
    "language_info": {
      "name": "python"
    }
  },
  "cells": [
    {
      "cell_type": "markdown",
      "source": [
        "# logistic model"
      ],
      "metadata": {
        "id": "1qTpdQx_EnlO"
      }
    },
    {
      "cell_type": "markdown",
      "source": [
        "## 模型形式\n",
        "Logistic 回归的模型形式和线性回归一样，都是 y = wx + b，其中 x 可以是一个多维的特征，唯一不同的地方在于 Logistic 回归会对 y 作用一个 logistic 函数，将其变为一种概率的结果。 Logistic 函数作为 Logistic 回归的核心，我们下面讲一讲 Logistic 函数，也被称为 Sigmoid 函数。\n",
        "\n",
        "### Sigmoid 函数\n",
        "Sigmoid 函数非常简单，其公式如下\n",
        "\n",
        "$$\n",
        "f(x) = \\frac{1}{1 + e^{-x}}\n",
        "$$\n",
        "\n",
        "\n",
        "可以看到 Sigmoid 函数的范围是在 0 ~ 1 之间，所以任何一个值经过了 Sigmoid 函数的作用，都会变成 0 ~ 1 之间的一个值，这个值可以形象地理解为一个概率，比如对于二分类问题，这个值越小就表示属于第一类，这个值越大就表示属于第二类。\n",
        "\n",
        "另外一个 Logistic 回归的前提是确保你的数据具有非常良好的线性可分性，也就是说，你的数据集能够在一定的维度上被分为两个部分"
      ],
      "metadata": {
        "id": "uSSFATBFEpt6"
      }
    },
    {
      "cell_type": "markdown",
      "source": [
        "## 损失函数\n",
        "前一节对于回归问题，我们有一个 loss 去衡量误差，那么对于分类问题，我们如何去衡量这个误差，并设计 loss 函数呢？\n",
        "\n",
        "Logistic 回归使用了 Sigmoid 函数将结果变到 0 ~ 1 之间，对于任意输入一个数据，经过 Sigmoid 之后的结果我们记为 $\\hat{y}$，表示这个数据点属于第二类的概率，那么其属于第一类的概率就是 $1-\\hat{y}$。如果这个数据点属于第二类，我们希望 $\\hat{y}$ 越大越好，也就是越靠近 1 越好，如果这个数据属于第一类，那么我们希望 $1-\\hat{y}$ 越大越好，也就是 $\\hat{y}$ 越小越好，越靠近 0 越好，所以我们可以这样设计我们的 loss 函数\n",
        "\n",
        "$$\n",
        "loss = -(y * log(\\hat{y}) + (1 - y) * log(1 - \\hat{y}))\n",
        "$$\n",
        "\n",
        "其中 y 表示真实的 label，只能取 {0, 1} 这两个值，因为 $\\hat{y}$ 表示经过 Logistic 回归预测之后的结果，是一个 0 ~ 1 之间的小数。如果 y 是 0，表示该数据属于第一类，我们希望 $\\hat{y}$ 越小越好，上面的 loss 函数变为\n",
        "\n",
        "$$\n",
        "loss = - (log(1 - \\hat{y}))\n",
        "$$\n",
        "\n",
        "在训练模型的时候我们希望最小化 loss 函数，根据 log 函数的单调性，也就是最小化 $\\hat{y}$，与我们的要求是一致的。\n",
        "\n",
        "而如果 y 是 1，表示该数据属于第二类，我们希望 $\\hat{y}$ 越大越好，同时上面的 loss 函数变为\n",
        "\n",
        "$$\n",
        "loss = -(log(\\hat{y}))\n",
        "$$\n",
        "\n",
        "我们希望最小化 loss 函数也就是最大化 $\\hat{y}$，这也与我们的要求一致。\n",
        "\n",
        "所以通过上面的论述，说明了这么构建 loss 函数是合理的。"
      ],
      "metadata": {
        "id": "EeIRCS11E4Xx"
      }
    },
    {
      "cell_type": "code",
      "source": [
        "import torch\n",
        "from torch.autograd import Variable\n",
        "import numpy as np\n",
        "import matplotlib.pyplot as plt\n",
        "%matplotlib inline\n",
        "\n",
        "# 设定随机种子\n",
        "torch.manual_seed(2017)"
      ],
      "metadata": {
        "colab": {
          "base_uri": "https://localhost:8080/"
        },
        "id": "c6zZnv0hEoys",
        "outputId": "68c29330-7b00-4c74-8041-55663af7aa7c"
      },
      "execution_count": 1,
      "outputs": [
        {
          "output_type": "execute_result",
          "data": {
            "text/plain": [
              "<torch._C.Generator at 0x7f39cc400b10>"
            ]
          },
          "metadata": {},
          "execution_count": 1
        }
      ]
    },
    {
      "cell_type": "code",
      "source": [
        "# 从 data.txt 中读入点\n",
        "with open('/content/data.txt', 'r') as f:\n",
        "    data_list = [i.split('\\n')[0].split(',') for i in f.readlines()]\n",
        "    data = [(float(i[0]), float(i[1]), float(i[2])) for i in data_list]\n",
        "\n",
        "# 标准化\n",
        "x0_max = max([i[0] for i in data])\n",
        "x1_max = max([i[1] for i in data])\n",
        "data = [(i[0]/x0_max, i[1]/x1_max, i[2]) for i in data]\n",
        "\n",
        "x0 = list(filter(lambda x: x[-1] == 0.0, data)) # 选择第一类的点\n",
        "x1 = list(filter(lambda x: x[-1] == 1.0, data)) # 选择第二类的点\n",
        "\n",
        "plot_x0 = [i[0] for i in x0]\n",
        "plot_y0 = [i[1] for i in x0]\n",
        "plot_x1 = [i[0] for i in x1]\n",
        "plot_y1 = [i[1] for i in x1]\n",
        "\n",
        "plt.plot(plot_x0, plot_y0, 'ro', label='x_0')\n",
        "plt.plot(plot_x1, plot_y1, 'bo', label='x_1')\n",
        "plt.legend(loc='best')"
      ],
      "metadata": {
        "colab": {
          "base_uri": "https://localhost:8080/",
          "height": 302
        },
        "id": "gRwjEzBOFlP7",
        "outputId": "9415df6a-cf6a-46b5-9071-045f6eee9784"
      },
      "execution_count": 3,
      "outputs": [
        {
          "output_type": "execute_result",
          "data": {
            "text/plain": [
              "<matplotlib.legend.Legend at 0x7f3947cb7e80>"
            ]
          },
          "metadata": {},
          "execution_count": 3
        },
        {
          "output_type": "display_data",
          "data": {
            "text/plain": [
              "<Figure size 432x288 with 1 Axes>"
            ],
            "image/png": "[encoded data removed]"
          },
          "metadata": {
            "needs_background": "light"
          }
        }
      ]
    },
    {
      "cell_type": "code",
      "source": [
        "np_data = np.array(data, dtype='float32') # 转换成 numpy array\n",
        "x_data = torch.from_numpy(np_data[:, 0:2]) # 转换成 Tensor, 大小是 [100, 2]\n",
        "y_data = torch.from_numpy(np_data[:, -1]).unsqueeze(1) # 转换成 Tensor，大小是 [100, 1]"
      ],
      "metadata": {
        "id": "Q8n9MuZuF4VR"
      },
      "execution_count": 4,
      "outputs": []
    },
    {
      "cell_type": "code",
      "source": [
        "# 定义 sigmoid 函数\n",
        "def sigmoid(x):\n",
        "    return 1 / (1 + np.exp(-x))"
      ],
      "metadata": {
        "id": "mlzzL1ceF62r"
      },
      "execution_count": 5,
      "outputs": []
    },
    {
      "cell_type": "code",
      "source": [
        "# 画出 sigmoid 的图像\n",
        "\n",
        "plot_x = np.arange(-10, 10.01, 0.01)\n",
        "plot_y = sigmoid(plot_x)\n",
        "\n",
        "plt.plot(plot_x, plot_y, 'r')"
      ],
      "metadata": {
        "colab": {
          "base_uri": "https://localhost:8080/",
          "height": 302
        },
        "id": "VQlN9VgIGBPk",
        "outputId": "90a73511-132b-41b3-b431-19065533168d"
      },
      "execution_count": 6,
      "outputs": [
        {
          "output_type": "execute_result",
          "data": {
            "text/plain": [
              "[<matplotlib.lines.Line2D at 0x7f3947be7c40>]"
            ]
          },
          "metadata": {},
          "execution_count": 6
        },
        {
          "output_type": "display_data",
          "data": {
            "text/plain": [
              "<Figure size 432x288 with 1 Axes>"
            ],
            "image/png": "[encoded data removed]"
          },
          "metadata": {
            "needs_background": "light"
          }
        }
      ]
    },
    {
      "cell_type": "code",
      "source": [
        "x_data = Variable(x_data)\n",
        "y_data = Variable(y_data)"
      ],
      "metadata": {
        "id": "rZlhvtsSGC_X"
      },
      "execution_count": 7,
      "outputs": []
    },
    {
      "cell_type": "markdown",
      "source": [
        "在 PyTorch 当中，不需要我们自己写 Sigmoid 的函数，PyTorch 已经用底层的 C++ 语言为我们写好了一些常用的函数，不仅方便我们使用，同时速度上比我们自己实现的更快，稳定性更好\n",
        "\n",
        "通过导入 `torch.nn.functional` 来使用，下面就是使用方法"
      ],
      "metadata": {
        "id": "DSrvZSr6GIDL"
      }
    },
    {
      "cell_type": "code",
      "source": [
        "import torch.nn.functional as F\n",
        "\n",
        "# 定义 logistic 回归模型\n",
        "w = Variable(torch.randn(2, 1), requires_grad=True) \n",
        "b = Variable(torch.zeros(1), requires_grad=True)\n",
        "\n",
        "def logistic_regression(x):\n",
        "    return F.sigmoid(torch.mm(x, w) + b)"
      ],
      "metadata": {
        "id": "6UUjsWXRGFxD"
      },
      "execution_count": 8,
      "outputs": []
    },
    {
      "cell_type": "code",
      "source": [
        "# 画出参数更新之前的结果\n",
        "w0 = w[0].data[0]\n",
        "w1 = w[1].data[0]\n",
        "b0 = b.data[0]\n",
        "\n",
        "plot_x = np.arange(0.2, 1, 0.01)\n",
        "plot_y = (-w0 * plot_x - b0) / w1\n",
        "\n",
        "plt.plot(plot_x, plot_y, 'g', label='cutting line')\n",
        "plt.plot(plot_x0, plot_y0, 'ro', label='x_0')\n",
        "plt.plot(plot_x1, plot_y1, 'bo', label='x_1')\n",
        "plt.legend(loc='best')"
      ],
      "metadata": {
        "colab": {
          "base_uri": "https://localhost:8080/",
          "height": 302
        },
        "id": "8irA57DQGMhq",
        "outputId": "ce75b3f9-2b44-4a6c-fcd5-a2de7bac962b"
      },
      "execution_count": 9,
      "outputs": [
        {
          "output_type": "execute_result",
          "data": {
            "text/plain": [
              "<matplotlib.legend.Legend at 0x7f3947c68f70>"
            ]
          },
          "metadata": {},
          "execution_count": 9
        },
        {
          "output_type": "display_data",
          "data": {
            "text/plain": [
              "<Figure size 432x288 with 1 Axes>"
            ],
            "image/png": "[encoded data removed]"
          },
          "metadata": {
            "needs_background": "light"
          }
        }
      ]
    },
    {
      "cell_type": "markdown",
      "source": [
        "可以看到分类效果基本是混乱的，我们来计算一下 loss，公式如下\n",
        "\n",
        "$$\n",
        "loss = -(y * log(\\hat{y}) + (1 - y) * log(1 - \\hat{y}))\n",
        "$$"
      ],
      "metadata": {
        "id": "a-S0F7bZGVxF"
      }
    },
    {
      "cell_type": "code",
      "source": [
        "# 计算loss\n",
        "def binary_loss(y_pred, y):\n",
        "    logits = (y * y_pred.clamp(1e-12).log() + (1 - y) * (1 - y_pred).clamp(1e-12).log()).mean()\n",
        "    return -logits"
      ],
      "metadata": {
        "id": "2mUq-iGzGORZ"
      },
      "execution_count": 10,
      "outputs": []
    },
    {
      "cell_type": "code",
      "source": [
        "y_pred = logistic_regression(x_data)\n",
        "loss = binary_loss(y_pred, y_data)\n",
        "print(loss)"
      ],
      "metadata": {
        "colab": {
          "base_uri": "https://localhost:8080/"
        },
        "id": "eLRT_RFXG1b_",
        "outputId": "8df84a83-43bb-4681-c459-1fdb2948155e"
      },
      "execution_count": 11,
      "outputs": [
        {
          "output_type": "stream",
          "name": "stdout",
          "text": [
            "tensor(0.6412, grad_fn=<NegBackward0>)\n"
          ]
        },
        {
          "output_type": "stream",
          "name": "stderr",
          "text": [
            "/usr/local/lib/python3.9/dist-packages/torch/nn/functional.py:1967: UserWarning: nn.functional.sigmoid is deprecated. Use torch.sigmoid instead.\n",
            "  warnings.warn(\"nn.functional.sigmoid is deprecated. Use torch.sigmoid instead.\")\n"
          ]
        }
      ]
    },
    {
      "cell_type": "code",
      "source": [
        "# 自动求导并更新参数\n",
        "loss.backward()\n",
        "w.data = w.data - 0.1 * w.grad.data\n",
        "b.data = b.data - 0.1 * b.grad.data\n",
        "\n",
        "# 算出一次更新之后的loss\n",
        "y_pred = logistic_regression(x_data)\n",
        "loss = binary_loss(y_pred, y_data)\n",
        "print(loss)"
      ],
      "metadata": {
        "colab": {
          "base_uri": "https://localhost:8080/"
        },
        "id": "xaFueIbUHOoz",
        "outputId": "741f9e07-22f6-4f5c-b43b-d9dcb1f8fdbc"
      },
      "execution_count": 12,
      "outputs": [
        {
          "output_type": "stream",
          "name": "stdout",
          "text": [
            "tensor(0.6407, grad_fn=<NegBackward0>)\n"
          ]
        }
      ]
    },
    {
      "cell_type": "markdown",
      "source": [
        "上面的参数更新方式其实是繁琐的重复操作，如果我们的参数很多，比如有 100 个，那么我们需要写 100 行来更新参数，为了方便，我们可以写成一个函数来更新，其实 PyTorch 已经为我们封装了一个函数来做这件事，这就是 PyTorch 中的优化器 `torch.optim`\n",
        "\n",
        "使用 `torch.optim` 需要另外一个数据类型，就是 `nn.Parameter`，这个本质上和 Variable 是一样的，只不过 `nn.Parameter` 默认是要求梯度的，而 Variable 默认是不求梯度的\n",
        "\n",
        "使用 `torch.optim.SGD` 可以使用梯度下降法来更新参数，PyTorch 中的优化器有更多的优化算法，在本章后面的课程我们会更加详细的介绍\n",
        "\n",
        "将参数 w 和 b 放到 `torch.optim.SGD` 中之后，说明一下学习率的大小，就可以使用 `optimizer.step()` 来更新参数了，比如下面我们将参数传入优化器，学习率设置为 1.0"
      ],
      "metadata": {
        "id": "VPS5kQcpHXVN"
      }
    },
    {
      "cell_type": "code",
      "source": [
        "# 使用 torch.optim 更新参数\n",
        "from torch import nn\n",
        "w = nn.Parameter(torch.randn(2, 1))\n",
        "b = nn.Parameter(torch.zeros(1))\n",
        "\n",
        "def logistic_regression(x):\n",
        "    return F.sigmoid(torch.mm(x, w) + b)\n",
        "\n",
        "optimizer = torch.optim.SGD([w, b], lr=1.)"
      ],
      "metadata": {
        "id": "IzHZViCGHSU0"
      },
      "execution_count": 13,
      "outputs": []
    },
    {
      "cell_type": "code",
      "source": [
        "# 进行 1000 次更新\n",
        "import time\n",
        "\n",
        "start = time.time()\n",
        "for e in range(1000):\n",
        "    # 前向传播\n",
        "    y_pred = logistic_regression(x_data)\n",
        "    loss = binary_loss(y_pred, y_data) # 计算 loss\n",
        "    # 反向传播\n",
        "    optimizer.zero_grad() # 使用优化器将梯度归 0\n",
        "    loss.backward()\n",
        "    optimizer.step() # 使用优化器来更新参数\n",
        "    # 计算正确率\n",
        "    mask = y_pred.ge(0.5).float()\n",
        "    acc = (mask == y_data).sum().data.item() / y_data.shape[0]\n",
        "    if (e + 1) % 200 == 0:\n",
        "        print('epoch: {}, Loss: {:.5f}, Acc: {:.5f}'.format(e+1, loss.data.item(), acc))\n",
        "during = time.time() - start\n",
        "print()\n",
        "print('During Time: {:.3f} s'.format(during))"
      ],
      "metadata": {
        "colab": {
          "base_uri": "https://localhost:8080/"
        },
        "id": "It34mzLAHZbp",
        "outputId": "ef2d530d-ec8c-47bd-d442-cda3e76401fe"
      },
      "execution_count": 30,
      "outputs": [
        {
          "output_type": "stream",
          "name": "stderr",
          "text": [
            "/usr/local/lib/python3.9/dist-packages/torch/nn/functional.py:1967: UserWarning: nn.functional.sigmoid is deprecated. Use torch.sigmoid instead.\n",
            "  warnings.warn(\"nn.functional.sigmoid is deprecated. Use torch.sigmoid instead.\")\n"
          ]
        },
        {
          "output_type": "stream",
          "name": "stdout",
          "text": [
            "epoch: 200, Loss: 0.32389, Acc: 0.92000\n",
            "epoch: 400, Loss: 0.29028, Acc: 0.91000\n",
            "epoch: 600, Loss: 0.27054, Acc: 0.91000\n",
            "epoch: 800, Loss: 0.25748, Acc: 0.90000\n",
            "epoch: 1000, Loss: 0.24819, Acc: 0.89000\n",
            "\n",
            "During Time: 0.960 s\n"
          ]
        }
      ]
    },
    {
      "cell_type": "markdown",
      "source": [
        "可以看到使用优化器之后更新参数非常简单，只需要在自动求导之前使用**`optimizer.zero_grad()`** 来归 0 梯度，然后使用 **`optimizer.step()`**来更新参数就可以了，非常简便\n",
        "\n",
        "同时经过了 1000 次更新，loss 也降得比较低了"
      ],
      "metadata": {
        "id": "uqKtqey00-Xt"
      }
    },
    {
      "cell_type": "code",
      "source": [
        "# 画出更新之后的结果\n",
        "w0 = w[0].data[0]\n",
        "w1 = w[1].data[0]\n",
        "b0 = b.data[0]\n",
        "\n",
        "plot_x = np.arange(0.2, 1, 0.01)\n",
        "plot_y = (-w0 * plot_x - b0) / w1\n",
        "\n",
        "plt.plot(plot_x, plot_y, 'g', label='cutting line')\n",
        "plt.plot(plot_x0, plot_y0, 'ro', label='x_0')\n",
        "plt.plot(plot_x1, plot_y1, 'bo', label='x_1')\n",
        "plt.legend(loc='best');"
      ],
      "metadata": {
        "colab": {
          "base_uri": "https://localhost:8080/",
          "height": 286
        },
        "id": "MPT9mMrgHmue",
        "outputId": "d9d13617-6664-49e2-8418-d5bcb104f18a"
      },
      "execution_count": 32,
      "outputs": [
        {
          "output_type": "display_data",
          "data": {
            "text/plain": [
              "<Figure size 432x288 with 1 Axes>"
            ],
            "image/png": "[encoded data removed]"
          },
          "metadata": {
            "needs_background": "light"
          }
        }
      ]
    },
    {
      "cell_type": "markdown",
      "source": [
        "前面我们使用了自己写的 loss，其实 PyTorch 已经为我们写好了一些常见的 loss，比如线性回归里面的 loss 是 `nn.MSE()`，而 Logistic 回归的二分类 loss 在 PyTorch 中是 `nn.BCEWithLogitsLoss()`，关于更多的 loss，可以查看[文档](http://pytorch.org/docs/0.3.0/nn.html#loss-functions)\n",
        "\n",
        "PyTorch 为我们实现的 loss 函数有两个好处，第一是方便我们使用，不需要重复造轮子，第二就是其实现是在底层 C++ 语言上的，所以速度上和稳定性上都要比我们自己实现的要好\n",
        "\n",
        "另外，PyTorch 出于稳定性考虑，将模型的 Sigmoid 操作和最后的 loss 都合在了 `nn.BCEWithLogitsLoss()`，所以我们使用 PyTorch 自带的 loss 就不需要再加上 Sigmoid 操作了"
      ],
      "metadata": {
        "id": "1MrRgabz1kr0"
      }
    },
    {
      "cell_type": "code",
      "source": [
        "# 使用自带的loss\n",
        "criterion = nn.BCEWithLogitsLoss() # 将 sigmoid 和 loss 写在一层，有更快的速度、更好的稳定性\n",
        "\n",
        "w = nn.Parameter(torch.randn(2, 1))\n",
        "b = nn.Parameter(torch.zeros(1))\n",
        "\n",
        "def logistic_reg(x):\n",
        "    return torch.mm(x, w) + b\n",
        "\n",
        "optimizer = torch.optim.SGD([w, b], 1.)"
      ],
      "metadata": {
        "id": "vy3GPAhh1cMR"
      },
      "execution_count": 33,
      "outputs": []
    },
    {
      "cell_type": "code",
      "source": [
        "y_pred = logistic_reg(x_data)\n",
        "loss = criterion(y_pred, y_data)\n",
        "print(loss.data)"
      ],
      "metadata": {
        "colab": {
          "base_uri": "https://localhost:8080/"
        },
        "id": "dH3ux-OX1mvE",
        "outputId": "60a13601-6696-42e4-93ce-61c4c6f0cae8"
      },
      "execution_count": 34,
      "outputs": [
        {
          "output_type": "stream",
          "name": "stdout",
          "text": [
            "tensor(0.6363)\n"
          ]
        }
      ]
    },
    {
      "cell_type": "code",
      "source": [
        "# 同样进行 1000 次更新\n",
        "\n",
        "start = time.time()\n",
        "for e in range(1000):\n",
        "    # 前向传播\n",
        "    y_pred = logistic_reg(x_data)\n",
        "    loss = criterion(y_pred, y_data)\n",
        "    # 反向传播\n",
        "    optimizer.zero_grad()\n",
        "    loss.backward()\n",
        "    optimizer.step()\n",
        "    # 计算正确率\n",
        "    mask = y_pred.ge(0.5).float()\n",
        "    acc = (mask == y_data).sum().data.item() / y_data.shape[0]\n",
        "    if (e + 1) % 200 == 0:\n",
        "        print('epoch: {}, Loss: {:.5f}, Acc: {:.5f}'.format(e+1, loss.data.item(), acc))\n",
        "\n",
        "during = time.time() - start\n",
        "print()\n",
        "print('During Time: {:.3f} s'.format(during))"
      ],
      "metadata": {
        "colab": {
          "base_uri": "https://localhost:8080/"
        },
        "id": "Nj1Xf0fF1qtn",
        "outputId": "13a181f3-40ff-4437-bbfa-d567b646b54e"
      },
      "execution_count": 35,
      "outputs": [
        {
          "output_type": "stream",
          "name": "stdout",
          "text": [
            "epoch: 200, Loss: 0.39538, Acc: 0.88000\n",
            "epoch: 400, Loss: 0.32407, Acc: 0.87000\n",
            "epoch: 600, Loss: 0.29039, Acc: 0.87000\n",
            "epoch: 800, Loss: 0.27061, Acc: 0.87000\n",
            "epoch: 1000, Loss: 0.25753, Acc: 0.88000\n",
            "\n",
            "During Time: 0.719 s\n"
          ]
        }
      ]
    },
    {
      "cell_type": "code",
      "source": [],
      "metadata": {
        "id": "-DoTtPHO1vvp"
      },
      "execution_count": null,
      "outputs": []
    }
  ]
}