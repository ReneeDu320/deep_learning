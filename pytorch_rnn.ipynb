{
  "cells": [
    {
      "cell_type": "markdown",
      "metadata": {
        "id": "view-in-github",
        "colab_type": "text"
      },
      "source": [
        "<a href=\"https://colab.research.google.com/github/ReneeDu320/deep_learning/blob/main/pytorch_rnn.ipynb\" target=\"_parent\"><img src=\"https://colab.research.google.com/assets/colab-badge.svg\" alt=\"Open In Colab\"/></a>"
      ]
    },
    {
      "cell_type": "markdown",
      "metadata": {
        "id": "iu6cPY2J-A1o"
      },
      "source": [
        "# PyTorch 中的循环神经网络模块\n",
        "前面我们讲了循环神经网络的基础知识和网络结构，下面我们教大家如何在 pytorch 下构建循环神经网络，因为 pytorch 的动态图机制，使得循环神经网络非常方便。"
      ]
    },
    {
      "cell_type": "markdown",
      "metadata": {
        "id": "DB0URB1X-A1s"
      },
      "source": [
        "## 一般的 RNN\n",
        "\n",
        "![](https://ws1.sinaimg.cn/large/006tKfTcly1fmt9xz889xj30kb07nglo.jpg)\n",
        "\n",
        "对于最简单的 RNN，我们可以使用下面两种方式去调用，分别是 `torch.nn.RNNCell()` 和 `torch.nn.RNN()`，这两种方式的区别在于 `RNNCell()` 只能接受序列中单步的输入，且必须传入隐藏状态，而 `RNN()` 可以接受一个序列的输入，默认会传入全 0 的隐藏状态，也可以自己申明隐藏状态传入。\n",
        "\n",
        "`RNN()` 里面的参数有\n",
        "\n",
        "- input_size 表示输入 $x_t$ 的特征维度\n",
        "\n",
        "- hidden_size 表示输出的特征维度\n",
        "\n",
        "- num_layers 表示网络的层数\n",
        "\n",
        "- nonlinearity 表示选用的非线性激活函数，默认是 'tanh'\n",
        "\n",
        "- bias 表示是否使用偏置，默认使用\n",
        "\n",
        "- batch_first 表示输入数据的形式，默认是 False，就是这样形式，(seq, batch, feature)，也就是将序列长度放在第一位，batch 放在第二位\n",
        "\n",
        "- dropout 表示是否在输出层应用 dropout\n",
        "\n",
        "- bidirectional 表示是否使用双向的 rnn，默认是 False\n",
        "\n",
        "对于 `RNNCell()`，里面的参数就少很多，只有 input_size，hidden_size，bias 以及 nonlinearity"
      ]
    },
    {
      "cell_type": "code",
      "execution_count": 1,
      "metadata": {
        "collapsed": true,
        "id": "-1X4gcQK-A1u"
      },
      "outputs": [],
      "source": [
        "import torch\n",
        "from torch.autograd import Variable\n",
        "from torch import nn"
      ]
    },
    {
      "cell_type": "code",
      "execution_count": 2,
      "metadata": {
        "collapsed": true,
        "id": "wcwQhnAZ-A1w"
      },
      "outputs": [],
      "source": [
        "# 定义一个单步的 rnn\n",
        "rnn_single = nn.RNNCell(input_size=100, hidden_size=200)"
      ]
    },
    {
      "cell_type": "code",
      "execution_count": 3,
      "metadata": {
        "colab": {
          "base_uri": "https://localhost:8080/"
        },
        "id": "hP5tX9G9-A1x",
        "outputId": "0c453676-488f-418b-b97b-950d97c54da6"
      },
      "outputs": [
        {
          "output_type": "execute_result",
          "data": {
            "text/plain": [
              "Parameter containing:\n",
              "tensor([[-0.0033, -0.0152,  0.0307,  ..., -0.0344,  0.0261,  0.0541],\n",
              "        [ 0.0309, -0.0070,  0.0639,  ...,  0.0002,  0.0221,  0.0698],\n",
              "        [-0.0592, -0.0450,  0.0249,  ..., -0.0252, -0.0147, -0.0516],\n",
              "        ...,\n",
              "        [ 0.0613,  0.0462,  0.0278,  ..., -0.0163,  0.0490,  0.0362],\n",
              "        [ 0.0679, -0.0689,  0.0192,  ...,  0.0059, -0.0541, -0.0616],\n",
              "        [ 0.0692, -0.0293,  0.0652,  ..., -0.0644, -0.0603, -0.0150]],\n",
              "       requires_grad=True)"
            ]
          },
          "metadata": {},
          "execution_count": 3
        }
      ],
      "source": [
        "# 访问其中的参数\n",
        "rnn_single.weight_hh"
      ]
    },
    {
      "cell_type": "code",
      "execution_count": 4,
      "metadata": {
        "collapsed": true,
        "id": "-aGHiGtM-A1z"
      },
      "outputs": [],
      "source": [
        "# 构造一个序列，长为 6，batch 是 5， 特征是 100\n",
        "x = Variable(torch.randn(6, 5, 100)) # 这是 rnn 的输入格式"
      ]
    },
    {
      "cell_type": "code",
      "execution_count": 5,
      "metadata": {
        "collapsed": true,
        "id": "07aOyeIN-A10"
      },
      "outputs": [],
      "source": [
        "# 定义初始的记忆状态\n",
        "h_t = Variable(torch.zeros(5, 200))"
      ]
    },
    {
      "cell_type": "code",
      "execution_count": 6,
      "metadata": {
        "collapsed": true,
        "id": "D8nloZzi-A11"
      },
      "outputs": [],
      "source": [
        "# 传入 rnn\n",
        "out = []\n",
        "for i in range(6): # 通过循环 6 次作用在整个序列上\n",
        "    h_t = rnn_single(x[i], h_t)\n",
        "    out.append(h_t)"
      ]
    },
    {
      "cell_type": "code",
      "execution_count": 12,
      "metadata": {
        "colab": {
          "base_uri": "https://localhost:8080/"
        },
        "id": "N1aFTZes-A11",
        "outputId": "80a5afb7-655f-446a-a3b6-aa25d6d9db59"
      },
      "outputs": [
        {
          "output_type": "execute_result",
          "data": {
            "text/plain": [
              "torch.Size([5, 200])"
            ]
          },
          "metadata": {},
          "execution_count": 12
        }
      ],
      "source": [
        "h_t.shape"
      ]
    },
    {
      "cell_type": "code",
      "execution_count": 9,
      "metadata": {
        "colab": {
          "base_uri": "https://localhost:8080/"
        },
        "id": "zyaOKml6-A12",
        "outputId": "27dd2c67-9406-40b5-9c63-b2aaa68d60ab"
      },
      "outputs": [
        {
          "output_type": "execute_result",
          "data": {
            "text/plain": [
              "6"
            ]
          },
          "metadata": {},
          "execution_count": 9
        }
      ],
      "source": [
        "len(out)"
      ]
    },
    {
      "cell_type": "code",
      "execution_count": 10,
      "metadata": {
        "colab": {
          "base_uri": "https://localhost:8080/"
        },
        "id": "-3j9lIpO-A12",
        "outputId": "fe05aa3c-9fdd-4f3d-c2a2-3966549385db"
      },
      "outputs": [
        {
          "output_type": "execute_result",
          "data": {
            "text/plain": [
              "torch.Size([5, 200])"
            ]
          },
          "metadata": {},
          "execution_count": 10
        }
      ],
      "source": [
        "out[0].shape # 每个输出的维度"
      ]
    },
    {
      "cell_type": "markdown",
      "metadata": {
        "id": "5q1HFdGW-A13"
      },
      "source": [
        "可以看到经过了 rnn 之后，隐藏状态的值已经被改变了，因为网络记忆了序列中的信息，同时输出 6 个结果"
      ]
    },
    {
      "cell_type": "markdown",
      "metadata": {
        "id": "yQYZiiD7-A14"
      },
      "source": [
        "下面我们看看直接使用 `RNN` 的情况"
      ]
    },
    {
      "cell_type": "code",
      "execution_count": 13,
      "metadata": {
        "collapsed": true,
        "id": "vSzkh02--A14"
      },
      "outputs": [],
      "source": [
        "rnn_seq = nn.RNN(100, 200)"
      ]
    },
    {
      "cell_type": "code",
      "execution_count": 14,
      "metadata": {
        "colab": {
          "base_uri": "https://localhost:8080/"
        },
        "id": "xORkDGgq-A15",
        "outputId": "f131244d-c1ea-49e5-eaf9-6ab28ba8385f"
      },
      "outputs": [
        {
          "output_type": "execute_result",
          "data": {
            "text/plain": [
              "Parameter containing:\n",
              "tensor([[ 4.7964e-02, -1.9068e-02, -2.4784e-02,  ..., -5.4594e-02,\n",
              "          2.1527e-02,  1.9974e-02],\n",
              "        [-3.4415e-02, -7.0402e-03, -2.8575e-02,  ...,  1.6532e-02,\n",
              "          4.5620e-02,  3.6163e-02],\n",
              "        [ 6.2873e-02, -2.3012e-02, -3.8514e-02,  ..., -6.8905e-02,\n",
              "          2.2811e-02,  2.1178e-02],\n",
              "        ...,\n",
              "        [-3.4806e-03, -5.2392e-02,  5.1187e-02,  ...,  4.6457e-02,\n",
              "         -5.2636e-03, -4.5401e-05],\n",
              "        [-6.6950e-04,  4.5032e-03, -2.3971e-02,  ..., -4.4612e-02,\n",
              "         -1.3389e-02,  3.3729e-02],\n",
              "        [-8.5752e-03, -1.4127e-02,  4.8226e-02,  ..., -2.8765e-02,\n",
              "         -1.0604e-02,  1.2273e-02]], requires_grad=True)"
            ]
          },
          "metadata": {},
          "execution_count": 14
        }
      ],
      "source": [
        "# 访问其中的参数\n",
        "rnn_seq.weight_hh_l0"
      ]
    },
    {
      "cell_type": "code",
      "execution_count": 15,
      "metadata": {
        "collapsed": true,
        "id": "XSna1t6z-A16"
      },
      "outputs": [],
      "source": [
        "out, h_t = rnn_seq(x) # 使用默认的全 0 隐藏状态"
      ]
    },
    {
      "cell_type": "code",
      "execution_count": 18,
      "metadata": {
        "colab": {
          "base_uri": "https://localhost:8080/"
        },
        "id": "NC9cRpwD-A16",
        "outputId": "7bcdf8d4-5b52-4172-eb8a-223f2b3bb60a"
      },
      "outputs": [
        {
          "output_type": "execute_result",
          "data": {
            "text/plain": [
              "torch.Size([1, 5, 200])"
            ]
          },
          "metadata": {},
          "execution_count": 18
        }
      ],
      "source": [
        "h_t.shape"
      ]
    },
    {
      "cell_type": "code",
      "execution_count": 19,
      "metadata": {
        "colab": {
          "base_uri": "https://localhost:8080/"
        },
        "id": "w3VYvV57-A17",
        "outputId": "82394df7-cb10-44cb-fbd8-1928586dc7a9"
      },
      "outputs": [
        {
          "output_type": "execute_result",
          "data": {
            "text/plain": [
              "6"
            ]
          },
          "metadata": {},
          "execution_count": 19
        }
      ],
      "source": [
        "len(out)"
      ]
    },
    {
      "cell_type": "markdown",
      "metadata": {
        "id": "pxluPA13-A18"
      },
      "source": [
        "这里的 h_t 是网络最后的隐藏状态，网络也输出了 6 个结果"
      ]
    },
    {
      "cell_type": "code",
      "execution_count": 20,
      "metadata": {
        "collapsed": true,
        "id": "j54F_Vyk-A2A"
      },
      "outputs": [],
      "source": [
        "# 自己定义初始的隐藏状态\n",
        "h_0 = Variable(torch.randn(1, 5, 200))"
      ]
    },
    {
      "cell_type": "markdown",
      "metadata": {
        "id": "SaJl6coB-A2D"
      },
      "source": [
        "这里的隐藏状态的大小有三个维度，分别是 (num_layers * num_direction, batch, hidden_size)"
      ]
    },
    {
      "cell_type": "code",
      "execution_count": 21,
      "metadata": {
        "id": "cJrxevAA-A2F"
      },
      "outputs": [],
      "source": [
        "out, h_t = rnn_seq(x, h_0)"
      ]
    },
    {
      "cell_type": "code",
      "execution_count": 23,
      "metadata": {
        "colab": {
          "base_uri": "https://localhost:8080/"
        },
        "id": "_Kca5lgj-A2H",
        "outputId": "37706466-2316-41fb-dc76-a556c32af968"
      },
      "outputs": [
        {
          "output_type": "execute_result",
          "data": {
            "text/plain": [
              "torch.Size([1, 5, 200])"
            ]
          },
          "metadata": {},
          "execution_count": 23
        }
      ],
      "source": [
        "h_t.shape"
      ]
    },
    {
      "cell_type": "code",
      "execution_count": 24,
      "metadata": {
        "colab": {
          "base_uri": "https://localhost:8080/"
        },
        "id": "6CgsQXeU-A2I",
        "outputId": "a360bf2b-d270-4044-e10d-b5bc937ec56a"
      },
      "outputs": [
        {
          "output_type": "execute_result",
          "data": {
            "text/plain": [
              "torch.Size([6, 5, 200])"
            ]
          },
          "metadata": {},
          "execution_count": 24
        }
      ],
      "source": [
        "out.shape"
      ]
    },
    {
      "cell_type": "markdown",
      "metadata": {
        "id": "wSV4E4pz-A2M"
      },
      "source": [
        "同时输出的结果也是 (seq, batch, feature)"
      ]
    },
    {
      "cell_type": "markdown",
      "metadata": {
        "id": "oqcx8MqN-A2N"
      },
      "source": [
        "一般情况下我们都是用 `nn.RNN()` 而不是 `nn.RNNCell()`，因为 `nn.RNN()` 能够避免我们手动写循环，非常方便，同时如果不特别说明，我们也会选择使用默认的全 0 初始化隐藏状态"
      ]
    },
    {
      "cell_type": "markdown",
      "metadata": {
        "id": "EpWtOSgr-A2N"
      },
      "source": [
        "## LSTM"
      ]
    },
    {
      "cell_type": "markdown",
      "metadata": {
        "id": "LbazOclL-A2P"
      },
      "source": [
        "![](https://ws1.sinaimg.cn/large/006tKfTcly1fmt9qj3uhmj30iz07ct90.jpg)"
      ]
    },
    {
      "cell_type": "markdown",
      "metadata": {
        "collapsed": true,
        "id": "jKFj3ar7-A2V"
      },
      "source": [
        "LSTM 和基本的 RNN 是一样的，他的参数也是相同的，同时他也有 `nn.LSTMCell()` 和 `nn.LSTM()` 两种形式，跟前面讲的都是相同的，我们就不再赘述了，下面直接举个小例子"
      ]
    },
    {
      "cell_type": "code",
      "execution_count": 25,
      "metadata": {
        "collapsed": true,
        "id": "MxnnbqVK-A2V"
      },
      "outputs": [],
      "source": [
        "lstm_seq = nn.LSTM(50, 100, num_layers=2) # 输入维度 50，输出 100，两层"
      ]
    },
    {
      "cell_type": "code",
      "execution_count": null,
      "metadata": {
        "id": "Bi2l_VAo-A2W",
        "outputId": "e692d171-18e7-4029-a023-386631266696"
      },
      "outputs": [
        {
          "data": {
            "text/plain": [
              "Parameter containing:\n",
              "1.00000e-02 *\n",
              " 3.8420  5.7387  6.1351  ...   1.2680  0.9890  1.3037\n",
              "-4.2301  6.8294 -4.8627  ...  -6.4147  4.3015  8.4103\n",
              " 9.4411  5.0195  9.8620  ...  -1.6096  9.2516 -0.6941\n",
              "          ...             ⋱             ...          \n",
              " 1.2930 -1.3300 -0.9311  ...  -6.0891 -0.7164  3.9578\n",
              " 9.0435  2.4674  9.4107  ...  -3.3822 -3.9773 -3.0685\n",
              "-4.2039 -8.2992 -3.3605  ...   2.2875  8.2163 -9.3277\n",
              "[torch.FloatTensor of size 400x100]"
            ]
          },
          "execution_count": 80,
          "metadata": {},
          "output_type": "execute_result"
        }
      ],
      "source": [
        "lstm_seq.weight_hh_l0 # 第一层的 h_t 权重"
      ]
    },
    {
      "cell_type": "markdown",
      "source": [
        "LSTM in Tensorflow: https://jasdeep06.github.io/posts/Understanding-LSTM-in-Tensorflow-MNIST/"
      ],
      "metadata": {
        "id": "cYhl07EkO3i-"
      }
    },
    {
      "cell_type": "markdown",
      "metadata": {
        "id": "cUWxdqVp-A2X"
      },
      "source": [
        "**小练习：想想为什么这个系数的大小是 (400, 100)**\n",
        "\n",
        "weight_hh_l[k] – the learnable hidden-hidden weights of the k_th\n",
        "  layer (W_hi|W_hf|W_hg|W_ho), of shape (4*hidden_size, hidden_size). If proj_size > 0 was specified, the shape will be (4**hidden_size, proj_size)."
      ]
    },
    {
      "cell_type": "code",
      "execution_count": 26,
      "metadata": {
        "id": "t7aZcMEJ-A2Y"
      },
      "outputs": [],
      "source": [
        "lstm_input = Variable(torch.randn(10, 3, 50)) # 序列 10，batch 是 3，输入维度 50"
      ]
    },
    {
      "cell_type": "code",
      "execution_count": 27,
      "metadata": {
        "collapsed": true,
        "id": "4as2NE2j-A2Y"
      },
      "outputs": [],
      "source": [
        "out, (h, c) = lstm_seq(lstm_input) # 使用默认的全 0 隐藏状态"
      ]
    },
    {
      "cell_type": "markdown",
      "metadata": {
        "id": "vjBEH_eF-A2Z"
      },
      "source": [
        "注意这里 LSTM 输出的隐藏状态有两个，h 和 c，就是上图中的每个 cell 之间的两个箭头，这两个隐藏状态的大小都是相同的，(num_layers * direction, batch, feature)"
      ]
    },
    {
      "cell_type": "code",
      "execution_count": 28,
      "metadata": {
        "colab": {
          "base_uri": "https://localhost:8080/"
        },
        "id": "zqwX_iaT-A2Z",
        "outputId": "d7456732-e618-4f85-80e8-be285206e883"
      },
      "outputs": [
        {
          "output_type": "execute_result",
          "data": {
            "text/plain": [
              "torch.Size([2, 3, 100])"
            ]
          },
          "metadata": {},
          "execution_count": 28
        }
      ],
      "source": [
        "h.shape # 两层，Batch 是 3，特征是 100"
      ]
    },
    {
      "cell_type": "code",
      "execution_count": 29,
      "metadata": {
        "colab": {
          "base_uri": "https://localhost:8080/"
        },
        "id": "N_NbVbfg-A2c",
        "outputId": "b3b8c1d8-0cf5-4998-b8db-f38d3a2b23d1"
      },
      "outputs": [
        {
          "output_type": "execute_result",
          "data": {
            "text/plain": [
              "torch.Size([2, 3, 100])"
            ]
          },
          "metadata": {},
          "execution_count": 29
        }
      ],
      "source": [
        "c.shape"
      ]
    },
    {
      "cell_type": "code",
      "execution_count": 30,
      "metadata": {
        "colab": {
          "base_uri": "https://localhost:8080/"
        },
        "id": "SYajwQI5-A2d",
        "outputId": "c515a6ee-ab84-48ea-a285-2ea3ed3d1479"
      },
      "outputs": [
        {
          "output_type": "execute_result",
          "data": {
            "text/plain": [
              "torch.Size([10, 3, 100])"
            ]
          },
          "metadata": {},
          "execution_count": 30
        }
      ],
      "source": [
        "out.shape"
      ]
    },
    {
      "cell_type": "markdown",
      "metadata": {
        "id": "eUqaY6BM-A2e"
      },
      "source": [
        "我们可以不使用默认的隐藏状态，这是需要传入两个张量"
      ]
    },
    {
      "cell_type": "code",
      "execution_count": 31,
      "metadata": {
        "collapsed": true,
        "id": "8OIi3tJt-A2f"
      },
      "outputs": [],
      "source": [
        "h_init = Variable(torch.randn(2, 3, 100))\n",
        "c_init = Variable(torch.randn(2, 3, 100))"
      ]
    },
    {
      "cell_type": "code",
      "execution_count": 32,
      "metadata": {
        "collapsed": true,
        "id": "B16eA1xL-A2f"
      },
      "outputs": [],
      "source": [
        "out, (h, c) = lstm_seq(lstm_input, (h_init, c_init))"
      ]
    },
    {
      "cell_type": "code",
      "execution_count": 33,
      "metadata": {
        "colab": {
          "base_uri": "https://localhost:8080/"
        },
        "id": "AXsKWMmk-A2g",
        "outputId": "95cb5b5d-f71e-4e7d-8dc8-358547fe6c3d"
      },
      "outputs": [
        {
          "output_type": "execute_result",
          "data": {
            "text/plain": [
              "torch.Size([2, 3, 100])"
            ]
          },
          "metadata": {},
          "execution_count": 33
        }
      ],
      "source": [
        "h.shape"
      ]
    },
    {
      "cell_type": "code",
      "execution_count": 34,
      "metadata": {
        "colab": {
          "base_uri": "https://localhost:8080/"
        },
        "id": "N66t2uV7-A2h",
        "outputId": "61cf30ac-8f49-47ab-f247-a0e745b679a6"
      },
      "outputs": [
        {
          "output_type": "execute_result",
          "data": {
            "text/plain": [
              "torch.Size([2, 3, 100])"
            ]
          },
          "metadata": {},
          "execution_count": 34
        }
      ],
      "source": [
        "c.shape"
      ]
    },
    {
      "cell_type": "code",
      "execution_count": 35,
      "metadata": {
        "colab": {
          "base_uri": "https://localhost:8080/"
        },
        "id": "i1zoXWii-A2h",
        "outputId": "c6495731-351e-4d4a-d694-55054578ec60"
      },
      "outputs": [
        {
          "output_type": "execute_result",
          "data": {
            "text/plain": [
              "torch.Size([10, 3, 100])"
            ]
          },
          "metadata": {},
          "execution_count": 35
        }
      ],
      "source": [
        "out.shape"
      ]
    },
    {
      "cell_type": "markdown",
      "metadata": {
        "id": "2eGXIF8M-A2i"
      },
      "source": [
        "# GRU\n",
        "![](https://ws3.sinaimg.cn/large/006tKfTcly1fmtaj38y9sj30io06bmxc.jpg)"
      ]
    },
    {
      "cell_type": "markdown",
      "metadata": {
        "id": "tY2n5mDp-A2i"
      },
      "source": [
        "GRU 和前面讲的这两个是同样的道理，就不再细说，还是演示一下例子"
      ]
    },
    {
      "cell_type": "code",
      "execution_count": null,
      "metadata": {
        "collapsed": true,
        "id": "NYrrV3gh-A2j"
      },
      "outputs": [],
      "source": [
        "gru_seq = nn.GRU(10, 20)\n",
        "gru_input = Variable(torch.randn(3, 32, 10))\n",
        "\n",
        "out, h = gru_seq(gru_input)"
      ]
    },
    {
      "cell_type": "code",
      "execution_count": null,
      "metadata": {
        "id": "ie44ih8x-A2j",
        "outputId": "db789203-9414-4cd1-9b3c-ab6f4c97a88d"
      },
      "outputs": [
        {
          "data": {
            "text/plain": [
              "Parameter containing:\n",
              " 0.0766 -0.0548 -0.2008  ...  -0.0250 -0.1819  0.1453\n",
              "-0.1676  0.1622  0.0417  ...   0.1905 -0.0071 -0.1038\n",
              " 0.0444 -0.1516  0.2194  ...  -0.0009  0.0771  0.0476\n",
              "          ...             ⋱             ...          \n",
              " 0.1698 -0.1707  0.0340  ...  -0.1315  0.1278  0.0946\n",
              " 0.1936  0.1369 -0.0694  ...  -0.0667  0.0429  0.1322\n",
              " 0.0870 -0.1884  0.1732  ...  -0.1423 -0.1723  0.2147\n",
              "[torch.FloatTensor of size 60x20]"
            ]
          },
          "execution_count": 76,
          "metadata": {},
          "output_type": "execute_result"
        }
      ],
      "source": [
        "gru_seq.weight_hh_l0"
      ]
    },
    {
      "cell_type": "code",
      "execution_count": null,
      "metadata": {
        "id": "579cyj7n-A2k",
        "outputId": "ce9140ca-4d35-465a-c526-b2885a0ab035"
      },
      "outputs": [
        {
          "data": {
            "text/plain": [
              "torch.Size([1, 32, 20])"
            ]
          },
          "execution_count": 75,
          "metadata": {},
          "output_type": "execute_result"
        }
      ],
      "source": [
        "h.shape"
      ]
    },
    {
      "cell_type": "code",
      "execution_count": null,
      "metadata": {
        "id": "7JSJmbZQ-A2l",
        "outputId": "4007aee1-42f9-45c3-aa03-2319a8e07c78"
      },
      "outputs": [
        {
          "data": {
            "text/plain": [
              "torch.Size([3, 32, 20])"
            ]
          },
          "execution_count": 74,
          "metadata": {},
          "output_type": "execute_result"
        }
      ],
      "source": [
        "out.shape"
      ]
    },
    {
      "cell_type": "markdown",
      "source": [
        "## example code"
      ],
      "metadata": {
        "id": "Tv7dSM44Q8Ob"
      }
    },
    {
      "cell_type": "code",
      "source": [
        "import torch.nn as nn\n",
        "from torch.autograd import Variable\n",
        "\n",
        "\n",
        "class MyModel(nn.Module):\n",
        "\tdef __init__(self, ...):\n",
        "\t...\n",
        "\tself.lstm = nn.LSTM(embedding_length, hidden_size)\n",
        "\tself.label = nn.Linear(hidden_size, output_size)\n",
        "\n",
        "\n",
        "\tdef forward(self):\n",
        "\n",
        "\n",
        "\th_0 = Variable(torch.zeros(1, batch_size, self.hidden_size).cuda())\n",
        "\tc_0 = Variable(torch.zeros(1, batch_size, self.hidden_size).cuda())\n",
        "\n",
        "\n",
        "\toutput, (final_hidden_state, final_cell_state) = self.lstm(input, (h_0, c_0))\n",
        "\n",
        "\n",
        "\treturn self.label(final_hidden_state[-1]) \n",
        "\n",
        "wandb.watch(model)\n",
        "\n",
        "\n",
        "def train_model(model, train_iter, epoch):\n",
        "    ...\n",
        "    model.train()\n",
        "    for idx, batch in enumerate(train_iter):\n",
        "\t...\n",
        "        prediction = model(text)\n",
        "        loss = loss_fn(prediction, target)\n",
        "        wandb.log({\"Training Loss\": loss.item()})\n",
        "        num_corrects = (torch.max(prediction, 1)[1].view(target.size()).data == target.data).float().sum()\n",
        "        acc = 100.0 * num_corrects/len(batch)\n",
        "        wandb.log({\"Training Accuracy\": acc.item()})\n",
        "        ...\n"
      ],
      "metadata": {
        "id": "7XbUkAWgQ9JC"
      },
      "execution_count": null,
      "outputs": []
    },
    {
      "cell_type": "markdown",
      "source": [
        "https://cnvrg.io/pytorch-lstm/\n",
        "\n",
        "https://machinelearningmastery.com/lstm-for-time-series-prediction-in-pytorch/\n",
        "\n",
        "\n"
      ],
      "metadata": {
        "id": "DNw1NpO-RfSA"
      }
    }
  ],
  "metadata": {
    "kernelspec": {
      "display_name": "mx",
      "language": "python",
      "name": "mx"
    },
    "language_info": {
      "codemirror_mode": {
        "name": "ipython",
        "version": 3
      },
      "file_extension": ".py",
      "mimetype": "text/x-python",
      "name": "python",
      "nbconvert_exporter": "python",
      "pygments_lexer": "ipython3",
      "version": "3.6.0"
    },
    "colab": {
      "provenance": [],
      "include_colab_link": true
    }
  },
  "nbformat": 4,
  "nbformat_minor": 0
}