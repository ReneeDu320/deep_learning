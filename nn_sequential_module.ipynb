{
  "nbformat": 4,
  "nbformat_minor": 0,
  "metadata": {
    "colab": {
      "provenance": [],
      "authorship_tag": "ABX9TyOdPgWx/YmgSZdkOT3Nt724"
    },
    "kernelspec": {
      "name": "python3",
      "display_name": "Python 3"
    },
    "language_info": {
      "name": "python"
    }
  },
  "cells": [
    {
      "cell_type": "markdown",
      "source": [
        "# 多层神经网络，Sequential 和 Module\n",
        "通过前面的章节，我们了解到了机器学习领域中最常见的两个模型，线性回归模型和 Logistic 回归模型，他们分别是处理机器学习中最常见的两类问题-回归问题和分类问题。\n",
        "\n",
        "下面我们会讲第一个深度学习的模型，多层神经网络。"
      ],
      "metadata": {
        "id": "zdYbCLVw2cY7"
      }
    },
    {
      "cell_type": "markdown",
      "source": [
        "## 多层神经网络\n",
        "在前面的线性回归中，我们的公式是 $y = w x + b$，而在 Logistic 回归中，我们的公式是 $y = Sigmoid(w x + b)$，其实它们都可以看成单层神经网络，其中 Sigmoid 被称为激活函数，之后我们会详细介绍激活函数以及为什么必须使用激活函数，下面我们从理解神经网络入手。\n",
        "\n",
        "### 理解神经网络\n",
        "神经网络的灵感来自于人脑的神经元系统, 神经元通过突触接受输入，然后通过**神经激活**的方式传输给后面的神经元。这对比于右边的神经网络，首先接受数据输入，然后通过计算得到结果，接着经过**激活函数**，再传给第二层的神经元。\n",
        "\n",
        "所以前面讲的 logistic 回归模型和线性回归模型都可以看做是一个单层神经网络，而 logistic 回归中使用了激活函数 sigmoid。\n",
        "\n",
        "神经网络使用的激活函数都是非线性的，每个激活函数都输入一个值，然后做一种特定的数学运算得到一个结果，下面举几个例子\n",
        "\n",
        "sigmoid 激活函数\n",
        "\n",
        "$$\\sigma(x) = \\frac{1}{1 + e^{-x}}$$\n",
        "\n",
        "![](https://ws1.sinaimg.cn/large/006tNc79ly1fmgj7yto7gj308w05oa9w.jpg)\n",
        "\n",
        "tanh 激活函数\n",
        "\n",
        "$$tanh(x) = 2 \\sigma(2x) - 1$$\n",
        "\n",
        "![](https://ws3.sinaimg.cn/large/006tNc79ly1fmgj8yjdnlj308w05mt8j.jpg)\n",
        "\n",
        "ReLU 激活函数\n",
        "\n",
        "$$ReLU(x) = max(0, x)$$\n",
        "\n",
        "![](https://ws1.sinaimg.cn/large/006tNc79ly1fmgj94ky2oj308n05uq2r.jpg)\n",
        "\n",
        "我们下面重点讲一讲 ReLU 激活函数，因为现在神经网络中 90% 的情况都是使用这个激活函数。一般一个一层的神经网络的公式就是 $y = max(0, w x + b)$，一个两层的神经网络就是 $y = w_2\\ max(0, w_1 x + b_1) + b_2$，非常简单，但是却很有效，使用这个激活函数能够加快梯度下降法的收敛速度，同时对比与其他的激活函数，这个激活函数计算更加简单，所以现在变得非常流行，之后你会发现我们激活在所有的神经网络中都会使用它。"
      ],
      "metadata": {
        "id": "iMM5AKak2iOo"
      }
    },
    {
      "cell_type": "markdown",
      "source": [
        "## 神经网络的结构\n",
        "神经网络就是很多个神经元堆在一起形成一层神经网络，那么多个层堆叠在一起就是深层神经网络，神经网络的结构其实非常简单，主要有输入层，隐藏层，输出层构成，输入层需要根据特征数目来决定，输出层根据解决的问题来决定，那么隐藏层的网路层数以及每层的神经元数就是可以调节的参数，而不同的层数和每层的参数对模型的影响非常大，我们看看这个网站的 [demo](http://cs.stanford.edu/people/karpathy/convnetjs/demo/classify2d.html)\n",
        "\n",
        "神经网络向前传播也非常简单，就是一层一层不断做运算就可以了"
      ],
      "metadata": {
        "id": "t9kkB-X7258i"
      }
    },
    {
      "cell_type": "markdown",
      "source": [
        "## 为什么要使用激活函数\n",
        "激活函数在神经网络中非常重要，使用激活函数也是非常必要的，前面我们从人脑神经元的角度理解了激活函数，因为神经元需要通过激活才能往后传播，所以神经网络中需要激活函数，下面我们从数学的角度理解一下激活函数的必要性。\n",
        "\n",
        "比如一个两层的神经网络，使用 A 表示激活函数，那么\n",
        "\n",
        "$$\n",
        "y = w_2 A(w_1 x)\n",
        "$$\n",
        "\n",
        "如果我们不使用激活函数，那么神经网络的结果就是\n",
        "\n",
        "$$\n",
        "y = w_2 (w_1 x) = (w_2 w_1) x = \\bar{w} x\n",
        "$$\n",
        "\n",
        "可以看到，我们将两层神经网络的参数合在一起，用 $\\bar{w}$ 来表示，两层的神经网络其实就变成了一层神经网络，只不过参数变成了新的 $\\bar{w}$，所以如果不使用激活函数，那么不管多少层的神经网络，$y = w_n \\cdots w_2 w_1 x = \\bar{w} x$，就都变成了单层神经网络，所以在每一层我们都必须使用激活函数。\n",
        "\n",
        "使用了激活函数之后，神经网络可以通过改变权重实现任意形状，越是复杂的神经网络能拟合的形状越复杂，这就是著名的神经网络万有逼近定理。"
      ],
      "metadata": {
        "id": "bHDW5S5F3KIi"
      }
    },
    {
      "cell_type": "code",
      "source": [
        "import torch\n",
        "import numpy as np\n",
        "from torch import nn\n",
        "from torch.autograd import Variable\n",
        "import torch.nn.functional as F\n",
        "\n",
        "import matplotlib.pyplot as plt\n",
        "%matplotlib inline"
      ],
      "metadata": {
        "id": "96trZOVy2ctP"
      },
      "execution_count": 1,
      "outputs": []
    },
    {
      "cell_type": "code",
      "source": [
        "def plot_decision_boundary(model, x, y):\n",
        "    # Set min and max values and give it some padding\n",
        "    x_min, x_max = x[:, 0].min() - 1, x[:, 0].max() + 1\n",
        "    y_min, y_max = x[:, 1].min() - 1, x[:, 1].max() + 1\n",
        "    h = 0.01\n",
        "    # Generate a grid of points with distance h between them\n",
        "    xx, yy = np.meshgrid(np.arange(x_min, x_max, h), np.arange(y_min, y_max, h)) #np.meshgrid 建立坐标网格\n",
        "    # Predict the function value for the whole grid\n",
        "    Z = model(np.c_[xx.ravel(), yy.ravel()]) # ravel: Return a contiguous flattened array.\n",
        "    Z = Z.reshape(xx.shape)\n",
        "    # Plot the contour and training examples\n",
        "    plt.contourf(xx, yy, Z, cmap=plt.cm.Spectral)\n",
        "    plt.ylabel('x2')\n",
        "    plt.xlabel('x1')\n",
        "    plt.scatter(x[:, 0], x[:, 1], c=y.reshape(-1), s=40, cmap=plt.cm.Spectral)"
      ],
      "metadata": {
        "id": "01uHKHbl3SYZ"
      },
      "execution_count": 2,
      "outputs": []
    },
    {
      "cell_type": "code",
      "source": [
        "np.random.seed(1)\n",
        "m = 400 # 样本数量\n",
        "N = int(m/2) # 每一类的点的个数\n",
        "D = 2 # 维度\n",
        "x = np.zeros((m, D))\n",
        "y = np.zeros((m, 1), dtype='uint8') # label 向量，0 表示红色，1 表示蓝色\n",
        "a = 4\n",
        "\n",
        "for j in range(2):\n",
        "    ix = range(N*j,N*(j+1))\n",
        "    t = np.linspace(j*3.12,(j+1)*3.12,N) + np.random.randn(N)*0.2 # theta\n",
        "    r = a*np.sin(4*t) + np.random.randn(N)*0.2 # radius\n",
        "    x[ix] = np.c_[r*np.sin(t), r*np.cos(t)]\n",
        "    y[ix] = j"
      ],
      "metadata": {
        "id": "5Pt8bbEx4B_I"
      },
      "execution_count": 10,
      "outputs": []
    },
    {
      "cell_type": "code",
      "source": [
        "plt.scatter(x[:, 0], x[:, 1], c=y.reshape(-1), s=40, cmap=plt.cm.Spectral)"
      ],
      "metadata": {
        "colab": {
          "base_uri": "https://localhost:8080/",
          "height": 302
        },
        "id": "P59E-L5O4v9u",
        "outputId": "5d6af457-08b5-48eb-b57b-8f8ecccdbd97"
      },
      "execution_count": 5,
      "outputs": [
        {
          "output_type": "execute_result",
          "data": {
            "text/plain": [
              "<matplotlib.collections.PathCollection at 0x7f0573a5c040>"
            ]
          },
          "metadata": {},
          "execution_count": 5
        },
        {
          "output_type": "display_data",
          "data": {
            "text/plain": [
              "<Figure size 432x288 with 1 Axes>"
            ],
            "image/png": "[encoded data removed]"
          },
          "metadata": {
            "needs_background": "light"
          }
        }
      ]
    },
    {
      "cell_type": "markdown",
      "source": [
        "try use logistic regression first"
      ],
      "metadata": {
        "id": "NNRZLaqW43KK"
      }
    },
    {
      "cell_type": "code",
      "source": [
        "x = torch.from_numpy(x).float()\n",
        "y = torch.from_numpy(y).float()\n",
        "\n",
        "w = nn.Parameter(torch.randn(2, 1))\n",
        "b = nn.Parameter(torch.zeros(1))\n",
        "\n",
        "optimizer = torch.optim.SGD([w, b], 1e-1)\n",
        "\n",
        "def logistic_regression(x):\n",
        "    return torch.mm(x, w) + b\n",
        "\n",
        "criterion = nn.BCEWithLogitsLoss()\n",
        "\n",
        "for e in range(100):\n",
        "    out = logistic_regression(Variable(x))\n",
        "    loss = criterion(out, Variable(y))\n",
        "    optimizer.zero_grad()\n",
        "    loss.backward()\n",
        "    optimizer.step()\n",
        "    if (e + 1) % 20 == 0:\n",
        "        print('epoch: {}, loss: {}'.format(e+1, loss.data.item()))"
      ],
      "metadata": {
        "colab": {
          "base_uri": "https://localhost:8080/"
        },
        "id": "dWVwRd4K40GK",
        "outputId": "75a4f0ae-523d-4c46-970f-27448798ba8b"
      },
      "execution_count": 11,
      "outputs": [
        {
          "output_type": "stream",
          "name": "stdout",
          "text": [
            "epoch: 20, loss: 0.6863625049591064\n",
            "epoch: 40, loss: 0.6734480261802673\n",
            "epoch: 60, loss: 0.6731650829315186\n",
            "epoch: 80, loss: 0.6731512546539307\n",
            "epoch: 100, loss: 0.6731480360031128\n"
          ]
        }
      ]
    },
    {
      "cell_type": "code",
      "source": [
        "def plot_logistic(x):\n",
        "    x = Variable(torch.from_numpy(x).float())\n",
        "    out = F.sigmoid(logistic_regression(x))\n",
        "    out = (out > 0.5) * 1\n",
        "    return out.data.numpy()"
      ],
      "metadata": {
        "id": "gmK7bzo8484R"
      },
      "execution_count": 12,
      "outputs": []
    },
    {
      "cell_type": "code",
      "source": [
        "plot_decision_boundary(lambda x: plot_logistic(x), x.numpy(), y.numpy())\n",
        "plt.title('logistic regression')"
      ],
      "metadata": {
        "colab": {
          "base_uri": "https://localhost:8080/",
          "height": 366
        },
        "id": "iJlT9I9J5JUZ",
        "outputId": "9c538865-433d-4c0a-9b83-5b3a202811c5"
      },
      "execution_count": 13,
      "outputs": [
        {
          "output_type": "stream",
          "name": "stderr",
          "text": [
            "/usr/local/lib/python3.9/dist-packages/torch/nn/functional.py:1967: UserWarning: nn.functional.sigmoid is deprecated. Use torch.sigmoid instead.\n",
            "  warnings.warn(\"nn.functional.sigmoid is deprecated. Use torch.sigmoid instead.\")\n"
          ]
        },
        {
          "output_type": "execute_result",
          "data": {
            "text/plain": [
              "Text(0.5, 1.0, 'logistic regression')"
            ]
          },
          "metadata": {},
          "execution_count": 13
        },
        {
          "output_type": "display_data",
          "data": {
            "text/plain": [
              "<Figure size 432x288 with 1 Axes>"
            ],
            "image/png": "[encoded data removed]"
          },
          "metadata": {
            "needs_background": "light"
          }
        }
      ]
    },
    {
      "cell_type": "markdown",
      "source": [
        "logistic model did not give good performance on this dataset, we can try nn now"
      ],
      "metadata": {
        "id": "glAXlINu5Rfi"
      }
    },
    {
      "cell_type": "code",
      "source": [
        "# 定义两层神经网络的参数\n",
        "w1 = nn.Parameter(torch.randn(2, 4) * 0.01) # 隐藏层神经元个数 2\n",
        "b1 = nn.Parameter(torch.zeros(4))\n",
        "\n",
        "w2 = nn.Parameter(torch.randn(4, 1) * 0.01)\n",
        "b2 = nn.Parameter(torch.zeros(1))\n",
        "\n",
        "# 定义模型\n",
        "def two_network(x):\n",
        "    x1 = torch.mm(x, w1) + b1\n",
        "    x1 = torch.tanh(x1) # 使用 PyTorch 自带的 tanh 激活函数\n",
        "    x2 = torch.mm(x1, w2) + b2\n",
        "    return x2\n",
        "\n",
        "optimizer = torch.optim.SGD([w1, w2, b1, b2], 1.)\n",
        "\n",
        "criterion = nn.BCEWithLogitsLoss()"
      ],
      "metadata": {
        "id": "MKV2eB0f5ND9"
      },
      "execution_count": 18,
      "outputs": []
    },
    {
      "cell_type": "code",
      "source": [
        "# 我们训练 10000 次\n",
        "for e in range(10000):\n",
        "    out = two_network(Variable(x))\n",
        "    loss = criterion(out, Variable(y))\n",
        "    optimizer.zero_grad()\n",
        "    loss.backward()\n",
        "    optimizer.step()\n",
        "    if (e + 1) % 1000 == 0:\n",
        "        print('epoch: {}, loss: {}'.format(e+1, loss.data.item()))"
      ],
      "metadata": {
        "colab": {
          "base_uri": "https://localhost:8080/"
        },
        "id": "d3HJOpMh5Y7_",
        "outputId": "24ad167c-9bec-4072-b21c-e6fbae2ca3be"
      },
      "execution_count": 19,
      "outputs": [
        {
          "output_type": "stream",
          "name": "stdout",
          "text": [
            "epoch: 1000, loss: 0.28653252124786377\n",
            "epoch: 2000, loss: 0.2732221782207489\n",
            "epoch: 3000, loss: 0.2658802270889282\n",
            "epoch: 4000, loss: 0.26030728220939636\n",
            "epoch: 5000, loss: 0.23647186160087585\n",
            "epoch: 6000, loss: 0.2261904925107956\n",
            "epoch: 7000, loss: 0.22227118909358978\n",
            "epoch: 8000, loss: 0.2197687178850174\n",
            "epoch: 9000, loss: 0.2178819328546524\n",
            "epoch: 10000, loss: 0.2163453847169876\n"
          ]
        }
      ]
    },
    {
      "cell_type": "code",
      "source": [
        "def plot_network(x):\n",
        "    x = Variable(torch.from_numpy(x).float())\n",
        "    x1 = torch.mm(x, w1) + b1\n",
        "    x1 = F.tanh(x1)\n",
        "    x2 = torch.mm(x1, w2) + b2\n",
        "    out = F.sigmoid(x2)\n",
        "    out = (out > 0.5) * 1\n",
        "    return out.data.numpy()"
      ],
      "metadata": {
        "id": "hMO9IWSX5kkb"
      },
      "execution_count": 20,
      "outputs": []
    },
    {
      "cell_type": "code",
      "source": [
        "plot_decision_boundary(lambda x: plot_network(x), x.numpy(), y.numpy())\n",
        "plt.title('2 layer network')"
      ],
      "metadata": {
        "colab": {
          "base_uri": "https://localhost:8080/",
          "height": 366
        },
        "id": "MFRwcRLw502D",
        "outputId": "adca0289-0455-4b88-d2fe-c927b6648612"
      },
      "execution_count": 21,
      "outputs": [
        {
          "output_type": "stream",
          "name": "stderr",
          "text": [
            "/usr/local/lib/python3.9/dist-packages/torch/nn/functional.py:1967: UserWarning: nn.functional.sigmoid is deprecated. Use torch.sigmoid instead.\n",
            "  warnings.warn(\"nn.functional.sigmoid is deprecated. Use torch.sigmoid instead.\")\n"
          ]
        },
        {
          "output_type": "execute_result",
          "data": {
            "text/plain": [
              "Text(0.5, 1.0, '2 layer network')"
            ]
          },
          "metadata": {},
          "execution_count": 21
        },
        {
          "output_type": "display_data",
          "data": {
            "text/plain": [
              "<Figure size 432x288 with 1 Axes>"
            ],
            "image/png": "[encoded data removed]"
          },
          "metadata": {
            "needs_background": "light"
          }
        }
      ]
    },
    {
      "cell_type": "markdown",
      "source": [
        "可以看到神经网络能够非常好地分类这个复杂的数据，和前面的 logistic 回归相比，神经网络因为有了激活函数的存在，成了一个非线性分类器，所以神经网络分类的边界更加复杂。"
      ],
      "metadata": {
        "id": "Gary2s5L56wC"
      }
    },
    {
      "cell_type": "markdown",
      "source": [
        "## Sequential 和 Module\n",
        "\n",
        "我们讲了数据处理，模型构建，loss 函数设计等等内容，但是目前为止我们还没有准备好构建一个完整的机器学习系统，一个完整的机器学习系统需要我们不断地读写模型。在现实应用中，一般我们会将模型在本地进行训练，然后保存模型，接着我们会将模型部署到不同的地方进行应用，所以在这节课我们会教大家如何保存 PyTorch 的模型。\n",
        "\n",
        "首先我们会讲一下 PyTorch 中的模块，Sequential 和 Module。\n",
        "\n",
        "\n",
        "对于前面的线性回归模型、 Logistic回归模型和神经网络，我们在构建的时候定义了需要的参数。这对于比较小的模型是可行的，但是对于大的模型，比如100 层的神经网络，这个时候再去手动定义参数就显得非常麻烦，所以 PyTorch 提供了两个模块来帮助我们构建模型，一个是Sequential，一个是 Module。\n",
        "\n",
        "Sequential 允许我们构建序列化的模块，而 Module 是一种更加灵活的模型定义方式，我们下面分别用 Sequential 和 Module 来定义上面的神经网络。"
      ],
      "metadata": {
        "id": "hYZLcMMG5-2B"
      }
    },
    {
      "cell_type": "code",
      "source": [
        "# Sequential\n",
        "seq_net = nn.Sequential(\n",
        "    nn.Linear(2, 4), # PyTorch 中的线性层，wx + b\n",
        "    nn.Tanh(),\n",
        "    nn.Linear(4, 1)\n",
        ")"
      ],
      "metadata": {
        "id": "R3Q964Cu6HqG"
      },
      "execution_count": 22,
      "outputs": []
    },
    {
      "cell_type": "code",
      "source": [
        "# 序列模块可以通过索引访问每一层\n",
        "\n",
        "seq_net[0] # 第一层"
      ],
      "metadata": {
        "colab": {
          "base_uri": "https://localhost:8080/"
        },
        "id": "dtgMJ3hO6J6f",
        "outputId": "f46a63f3-bf4e-445c-b867-e55f39659560"
      },
      "execution_count": 23,
      "outputs": [
        {
          "output_type": "execute_result",
          "data": {
            "text/plain": [
              "Linear(in_features=2, out_features=4, bias=True)"
            ]
          },
          "metadata": {},
          "execution_count": 23
        }
      ]
    },
    {
      "cell_type": "code",
      "source": [
        "# 打印出第一层的权重\n",
        "\n",
        "w0 = seq_net[0].weight\n",
        "print(w0)"
      ],
      "metadata": {
        "colab": {
          "base_uri": "https://localhost:8080/"
        },
        "id": "EzRukj8p6MCh",
        "outputId": "35ba96a1-097e-4efe-a0ab-6d8dbf2c9244"
      },
      "execution_count": 24,
      "outputs": [
        {
          "output_type": "stream",
          "name": "stdout",
          "text": [
            "Parameter containing:\n",
            "tensor([[ 0.0385,  0.1368],\n",
            "        [-0.0982, -0.0530],\n",
            "        [ 0.5946,  0.2272],\n",
            "        [ 0.0338,  0.1132]], requires_grad=True)\n"
          ]
        }
      ]
    },
    {
      "cell_type": "code",
      "source": [
        "# 通过 parameters 可以取得模型的参数\n",
        "param = seq_net.parameters()\n",
        "\n",
        "# 定义优化器\n",
        "optim = torch.optim.SGD(param, 1.)\n",
        "\n",
        "print(param)"
      ],
      "metadata": {
        "colab": {
          "base_uri": "https://localhost:8080/"
        },
        "id": "VyHFqyZA6N1d",
        "outputId": "84c8f82d-2e78-4997-9325-2648937a527b"
      },
      "execution_count": 25,
      "outputs": [
        {
          "output_type": "stream",
          "name": "stdout",
          "text": [
            "<generator object Module.parameters at 0x7f05717f6eb0>\n"
          ]
        }
      ]
    },
    {
      "cell_type": "code",
      "source": [
        "# 我们训练 10000 次\n",
        "for e in range(10000):\n",
        "    out = seq_net(Variable(x))\n",
        "    loss = criterion(out, Variable(y))\n",
        "    optim.zero_grad()\n",
        "    loss.backward()\n",
        "    optim.step()\n",
        "    if (e + 1) % 1000 == 0:\n",
        "        print('epoch: {}, loss: {}'.format(e+1, loss.data.item()))"
      ],
      "metadata": {
        "colab": {
          "base_uri": "https://localhost:8080/"
        },
        "id": "n_RwZ5Yx6Sus",
        "outputId": "19986bea-74d1-40d5-ce93-fd8101f68f8a"
      },
      "execution_count": 27,
      "outputs": [
        {
          "output_type": "stream",
          "name": "stdout",
          "text": [
            "epoch: 1000, loss: 0.271797776222229\n",
            "epoch: 2000, loss: 0.26507142186164856\n",
            "epoch: 3000, loss: 0.2604091167449951\n",
            "epoch: 4000, loss: 0.25691547989845276\n",
            "epoch: 5000, loss: 0.25431451201438904\n",
            "epoch: 6000, loss: 0.252339631319046\n",
            "epoch: 7000, loss: 0.2508033812046051\n",
            "epoch: 8000, loss: 0.2495819479227066\n",
            "epoch: 9000, loss: 0.24859210848808289\n",
            "epoch: 10000, loss: 0.247776597738266\n"
          ]
        }
      ]
    },
    {
      "cell_type": "markdown",
      "source": [
        "可以看到，训练 10000 次 loss 比之前的更低，这是因为 PyTorch 自带的模块比我们写的更加稳定，同时也有一些params初始化的问题在里面"
      ],
      "metadata": {
        "id": "Vb7GVR7R6x_V"
      }
    },
    {
      "cell_type": "code",
      "source": [
        "def plot_seq(x):\n",
        "    out = F.sigmoid(seq_net(Variable(torch.from_numpy(x).float()))).data.numpy()\n",
        "    out = (out > 0.5) * 1\n",
        "    return out"
      ],
      "metadata": {
        "id": "MxKgvwjl6Vsa"
      },
      "execution_count": 28,
      "outputs": []
    },
    {
      "cell_type": "code",
      "source": [
        "plot_decision_boundary(lambda x: plot_seq(x), x.numpy(), y.numpy())\n",
        "plt.title('sequential')"
      ],
      "metadata": {
        "colab": {
          "base_uri": "https://localhost:8080/",
          "height": 366
        },
        "id": "HS9YGYsz62JU",
        "outputId": "c475264b-5fd8-4c91-a88c-bc0b15e6c9bd"
      },
      "execution_count": 29,
      "outputs": [
        {
          "output_type": "stream",
          "name": "stderr",
          "text": [
            "/usr/local/lib/python3.9/dist-packages/torch/nn/functional.py:1967: UserWarning: nn.functional.sigmoid is deprecated. Use torch.sigmoid instead.\n",
            "  warnings.warn(\"nn.functional.sigmoid is deprecated. Use torch.sigmoid instead.\")\n"
          ]
        },
        {
          "output_type": "execute_result",
          "data": {
            "text/plain": [
              "Text(0.5, 1.0, 'sequential')"
            ]
          },
          "metadata": {},
          "execution_count": 29
        },
        {
          "output_type": "display_data",
          "data": {
            "text/plain": [
              "<Figure size 432x288 with 1 Axes>"
            ],
            "image/png": "[encoded data removed]"
          },
          "metadata": {
            "needs_background": "light"
          }
        }
      ]
    },
    {
      "cell_type": "markdown",
      "source": [
        "最后我们讲一讲如何保存模型，保存模型在 PyTorch 中有两种方式，一种是将模型结构和参数都保存在一起，一种是只将参数保存下来，下面我们一一介绍。"
      ],
      "metadata": {
        "id": "SkVbw0ai68qd"
      }
    },
    {
      "cell_type": "code",
      "source": [
        "# 将参数和模型保存在一起\n",
        "torch.save(seq_net, 'save_seq_net.pth')"
      ],
      "metadata": {
        "id": "2ltNfiMd658m"
      },
      "execution_count": 34,
      "outputs": []
    },
    {
      "cell_type": "code",
      "source": [
        "#上面就是保存模型的方式，`torch.save`里面有两个参数，第一个是要保存的模型，第二个参数是保存的路径，读取模型的方式也非常简单\n",
        "# 读取保存的模型\n",
        "seq_net1 = torch.load('save_seq_net.pth')\n",
        "seq_net1"
      ],
      "metadata": {
        "colab": {
          "base_uri": "https://localhost:8080/"
        },
        "id": "CJRrLhc16-cB",
        "outputId": "4ca709f3-49e4-4883-d860-dd30a7f8a913"
      },
      "execution_count": 35,
      "outputs": [
        {
          "output_type": "execute_result",
          "data": {
            "text/plain": [
              "Sequential(\n",
              "  (0): Linear(in_features=2, out_features=4, bias=True)\n",
              "  (1): Tanh()\n",
              "  (2): Linear(in_features=4, out_features=1, bias=True)\n",
              ")"
            ]
          },
          "metadata": {},
          "execution_count": 35
        }
      ]
    },
    {
      "cell_type": "code",
      "source": [
        "print(seq_net1[0].weight)"
      ],
      "metadata": {
        "colab": {
          "base_uri": "https://localhost:8080/"
        },
        "id": "u8MAwBwR7FmW",
        "outputId": "fdc380f4-fe89-4ff9-ae2b-57b562c0a058"
      },
      "execution_count": 36,
      "outputs": [
        {
          "output_type": "stream",
          "name": "stdout",
          "text": [
            "Parameter containing:\n",
            "tensor([[ -0.0464,  -9.9712],\n",
            "        [  9.9671, -12.2506],\n",
            "        [  9.6889,  11.1535],\n",
            "        [ -0.8555,  -5.2179]], requires_grad=True)\n"
          ]
        }
      ]
    },
    {
      "cell_type": "markdown",
      "source": [
        "我们可以看到我们重新读入了模型，并且将其命名为 seq_net1，并且打印了第一层的参数\n",
        "\n",
        "下面我们看看第二种保存模型的方式，只保存参数而不保存模型结构"
      ],
      "metadata": {
        "id": "thQ0AqGQ7m9g"
      }
    },
    {
      "cell_type": "code",
      "source": [
        "# 保存模型参数\n",
        "torch.save(seq_net.state_dict(), 'save_seq_net_params.pth')"
      ],
      "metadata": {
        "id": "AGyRIaQD7fda"
      },
      "execution_count": 37,
      "outputs": []
    },
    {
      "cell_type": "code",
      "source": [
        "#通过上面的方式，我们保存了模型的参数，如果要重新读入模型的参数，首先我们需要重新定义一次模型，接着重新读入参数\n",
        "seq_net2 = nn.Sequential(\n",
        "    nn.Linear(2, 4),\n",
        "    nn.Tanh(),\n",
        "    nn.Linear(4, 1)\n",
        ")\n",
        "\n",
        "seq_net2.load_state_dict(torch.load('save_seq_net_params.pth'))"
      ],
      "metadata": {
        "colab": {
          "base_uri": "https://localhost:8080/"
        },
        "id": "NvfJUqtO7IG4",
        "outputId": "238163cb-d3b1-4b62-b6c2-72dea59ebc4a"
      },
      "execution_count": 38,
      "outputs": [
        {
          "output_type": "execute_result",
          "data": {
            "text/plain": [
              "<All keys matched successfully>"
            ]
          },
          "metadata": {},
          "execution_count": 38
        }
      ]
    },
    {
      "cell_type": "code",
      "source": [
        "print(seq_net2[0].weight)"
      ],
      "metadata": {
        "colab": {
          "base_uri": "https://localhost:8080/"
        },
        "id": "eXqI7zH77RYR",
        "outputId": "f0595ab1-d56f-464e-c538-2aab164a0fe4"
      },
      "execution_count": 39,
      "outputs": [
        {
          "output_type": "stream",
          "name": "stdout",
          "text": [
            "Parameter containing:\n",
            "tensor([[ -0.0464,  -9.9712],\n",
            "        [  9.9671, -12.2506],\n",
            "        [  9.6889,  11.1535],\n",
            "        [ -0.8555,  -5.2179]], requires_grad=True)\n"
          ]
        }
      ]
    },
    {
      "cell_type": "markdown",
      "source": [
        "有这两种保存和读取模型的方法，我们推荐使用**第二种**，因为第二种可移植性更强"
      ],
      "metadata": {
        "id": "zUgFwjtb7vZS"
      }
    },
    {
      "cell_type": "markdown",
      "source": [
        "下面我们再用 Module 定义这个模型，下面是使用 Module 的模板\n",
        "\n",
        "```\n",
        "class 网络名字(nn.Module):\n",
        "    def __init__(self, 一些定义的参数):\n",
        "        super(网络名字, self).__init__()\n",
        "        self.layer1 = nn.Linear(num_input, num_hidden)\n",
        "        self.layer2 = nn.Sequential(...)\n",
        "        ...\n",
        "        \n",
        "        定义需要用的网络层\n",
        "        \n",
        "    def forward(self, x): # 定义前向传播\n",
        "        x1 = self.layer1(x)\n",
        "        x2 = self.layer2(x)\n",
        "        x = x1 + x2\n",
        "        ...\n",
        "        return x\n",
        "```\n",
        "\n",
        "注意的是，Module 里面也可以使用 Sequential，同时 Module 非常灵活，具体体现在 forward 中，如何复杂的操作都能直观的在 forward 里面执行\n",
        "\n",
        "下面我们照着模板实现一下上面的神经网络"
      ],
      "metadata": {
        "id": "KaVmG7ap7x7L"
      }
    },
    {
      "cell_type": "code",
      "source": [
        "class module_net(nn.Module):\n",
        "    def __init__(self, num_input, num_hidden, num_output):\n",
        "        super(module_net, self).__init__()\n",
        "        self.layer1 = nn.Linear(num_input, num_hidden)\n",
        "        \n",
        "        self.layer2 = nn.Tanh()\n",
        "        \n",
        "        self.layer3 = nn.Linear(num_hidden, num_output)\n",
        "        \n",
        "    def forward(self, x):\n",
        "        x = self.layer1(x)\n",
        "        x = self.layer2(x)\n",
        "        x = self.layer3(x)\n",
        "        return x"
      ],
      "metadata": {
        "id": "Md6r5-Pr7sA4"
      },
      "execution_count": 40,
      "outputs": []
    },
    {
      "cell_type": "code",
      "source": [
        "mo_net = module_net(2, 4, 1)"
      ],
      "metadata": {
        "id": "dwBKDys2729g"
      },
      "execution_count": 41,
      "outputs": []
    },
    {
      "cell_type": "code",
      "source": [
        "# 访问模型中的某层可以直接通过名字\n",
        "\n",
        "# 第一层\n",
        "l1 = mo_net.layer1\n",
        "print(l1)"
      ],
      "metadata": {
        "colab": {
          "base_uri": "https://localhost:8080/"
        },
        "id": "u0F0PHE176YR",
        "outputId": "7fffe2d6-2dc9-4df3-9d67-4c9ad1996f43"
      },
      "execution_count": 42,
      "outputs": [
        {
          "output_type": "stream",
          "name": "stdout",
          "text": [
            "Linear(in_features=2, out_features=4, bias=True)\n"
          ]
        }
      ]
    },
    {
      "cell_type": "code",
      "source": [
        "# 打印出第一层的权重\n",
        "print(l1.weight)"
      ],
      "metadata": {
        "colab": {
          "base_uri": "https://localhost:8080/"
        },
        "id": "J48ECx8z77vT",
        "outputId": "fffcea0f-62c7-40d1-b0bf-7a119e70fa5e"
      },
      "execution_count": 43,
      "outputs": [
        {
          "output_type": "stream",
          "name": "stdout",
          "text": [
            "Parameter containing:\n",
            "tensor([[ 0.6093,  0.5494],\n",
            "        [-0.6846,  0.4619],\n",
            "        [ 0.3221,  0.1503],\n",
            "        [-0.6326, -0.4812]], requires_grad=True)\n"
          ]
        }
      ]
    },
    {
      "cell_type": "code",
      "source": [
        "# 定义优化器\n",
        "optim = torch.optim.SGD(mo_net.parameters(), 1.)"
      ],
      "metadata": {
        "id": "G9m8Q-t179W3"
      },
      "execution_count": 44,
      "outputs": []
    },
    {
      "cell_type": "code",
      "source": [
        "# 我们训练 10000 次\n",
        "for e in range(10000):\n",
        "    out = mo_net(Variable(x))\n",
        "    loss = criterion(out, Variable(y))\n",
        "    optim.zero_grad()\n",
        "    loss.backward()\n",
        "    optim.step()\n",
        "    if (e + 1) % 1000 == 0:\n",
        "        print('epoch: {}, loss: {}'.format(e+1, loss.data.item()))"
      ],
      "metadata": {
        "colab": {
          "base_uri": "https://localhost:8080/"
        },
        "id": "-4-1znoj8D8W",
        "outputId": "6d30bb66-e64d-4e66-c33f-512a13d03c6f"
      },
      "execution_count": 46,
      "outputs": [
        {
          "output_type": "stream",
          "name": "stdout",
          "text": [
            "epoch: 1000, loss: 0.2787899374961853\n",
            "epoch: 2000, loss: 0.2712152302265167\n",
            "epoch: 3000, loss: 0.2659180164337158\n",
            "epoch: 4000, loss: 0.262227326631546\n",
            "epoch: 5000, loss: 0.25954630970954895\n",
            "epoch: 6000, loss: 0.25751298666000366\n",
            "epoch: 7000, loss: 0.25591564178466797\n",
            "epoch: 8000, loss: 0.2546241283416748\n",
            "epoch: 9000, loss: 0.25355368852615356\n",
            "epoch: 10000, loss: 0.2526468336582184\n"
          ]
        }
      ]
    },
    {
      "cell_type": "code",
      "source": [
        "# 保存模型\n",
        "torch.save(mo_net.state_dict(), 'module_net.pth')"
      ],
      "metadata": {
        "id": "wSkunVRP8FH5"
      },
      "execution_count": 47,
      "outputs": []
    },
    {
      "cell_type": "code",
      "source": [],
      "metadata": {
        "id": "t4Zj1JKS8I8p"
      },
      "execution_count": null,
      "outputs": []
    }
  ]
}