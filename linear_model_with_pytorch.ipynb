{
  "nbformat": 4,
  "nbformat_minor": 0,
  "metadata": {
    "colab": {
      "provenance": [],
      "authorship_tag": "ABX9TyPdmMUo/9GPy/YHHY2f0Duc"
    },
    "kernelspec": {
      "name": "python3",
      "display_name": "Python 3"
    },
    "language_info": {
      "name": "python"
    }
  },
  "cells": [
    {
      "cell_type": "markdown",
      "source": [
        "# linear models -pytorch"
      ],
      "metadata": {
        "id": "9GrW-sQz_bKg"
      }
    },
    {
      "cell_type": "markdown",
      "source": [
        "## 一元线性回归\n",
        "一元线性模型非常简单，假设我们有变量 $x_i$ 和目标 $y_i$，每个 i 对应于一个数据点，希望建立一个模型\n",
        "\n",
        "$$\n",
        "\\hat{y}_i = w x_i + b\n",
        "$$\n",
        "\n",
        "$\\hat{y}_i$ 是我们预测的结果，希望通过 $\\hat{y}_i$ 来拟合目标 $y_i$，通俗来讲就是找到这个函数拟合 $y_i$ 使得误差最小，即最小化\n",
        "\n",
        "$$\n",
        "\\frac{1}{n} \\sum_{i=1}^n(\\hat{y}_i - y_i)^2\n",
        "$$"
      ],
      "metadata": {
        "id": "kjJlpG7f_g9x"
      }
    },
    {
      "cell_type": "markdown",
      "source": [
        "### 梯度\n",
        "梯度在数学上就是导数，如果是一个多元函数，那么梯度就是偏导数。比如一个函数f(x, y)，那么 f 的梯度就是 \n",
        "\n",
        "$$\n",
        "(\\frac{\\partial f}{\\partial x},\\ \\frac{\\partial f}{\\partial y})\n",
        "$$\n",
        "\n",
        "可以称为 grad f(x, y) 或者 $\\nabla f(x, y)$。具体某一点 $(x_0,\\ y_0)$ 的梯度就是 $\\nabla f(x_0,\\ y_0)$。"
      ],
      "metadata": {
        "id": "mLiqdBV5_pJl"
      }
    },
    {
      "cell_type": "markdown",
      "source": [
        "### 梯度下降法\n",
        "有了对梯度的理解，我们就能了解梯度下降发的原理了。上面我们需要最小化这个误差，也就是需要找到这个误差的最小值点，那么沿着梯度的反方向我们就能够找到这个最小值点。\n",
        "\n",
        "我们可以来看一个直观的解释。比如我们在一座大山上的某处位置，由于我们不知道怎么下山，于是决定走一步算一步，也就是在每走到一个位置的时候，求解当前位置的梯度，沿着梯度的负方向，也就是当前最陡峭的位置向下走一步，然后继续求解当前位置梯度，向这一步所在位置沿着最陡峭最易下山的位置走一步。这样一步步的走下去，一直走到觉得我们已经到了山脚。当然这样走下去，有可能我们不能走到山脚，而是到了某一个局部的山峰低处。\n",
        "\n",
        "类比我们的问题，就是沿着梯度的反方向，我们不断改变 w 和 b 的值，最终找到一组最好的 w 和 b 使得误差最小。\n",
        "\n",
        "在更新的时候，我们需要决定每次更新的幅度，比如在下山的例子中，我们需要每次往下走的那一步的长度，这个长度称为学习率，用 $\\eta$ 表示，这个学习率非常重要，不同的学习率都会导致不同的结果，学习率太小会导致下降非常缓慢，学习率太大又会导致跳动非常明显\n",
        "\n",
        "我们的更新公式就是\n",
        "\n",
        "$$\n",
        "w := w - \\eta \\frac{\\partial f(w,\\ b)}{\\partial w} \\\\\n",
        "b := b - \\eta \\frac{\\partial f(w,\\ b)}{\\partial b}\n",
        "$$\n",
        "\n",
        "通过不断地迭代更新，最终我们能够找到一组最优的 w 和 b，这就是梯度下降法的原理。\n",
        "\n"
      ],
      "metadata": {
        "id": "L8bXnt8F_5F-"
      }
    },
    {
      "cell_type": "code",
      "source": [
        "import torch\n",
        "import numpy as np\n",
        "from torch.autograd import Variable\n",
        "\n",
        "torch.manual_seed(2017)"
      ],
      "metadata": {
        "colab": {
          "base_uri": "https://localhost:8080/"
        },
        "id": "VaJhvxCH_oIm",
        "outputId": "f6c9edb7-ac5f-411f-f337-d2b62b30c239"
      },
      "execution_count": 2,
      "outputs": [
        {
          "output_type": "execute_result",
          "data": {
            "text/plain": [
              "<torch._C.Generator at 0x7ff9f4910d90>"
            ]
          },
          "metadata": {},
          "execution_count": 2
        }
      ]
    },
    {
      "cell_type": "code",
      "source": [
        "# 读入数据 x 和 y\n",
        "x_train = np.array([[3.3], [4.4], [5.5], [6.71], [6.93], [4.168],\n",
        "                    [9.779], [6.182], [7.59], [2.167], [7.042],\n",
        "                    [10.791], [5.313], [7.997], [3.1]], dtype=np.float32)\n",
        "\n",
        "y_train = np.array([[1.7], [2.76], [2.09], [3.19], [1.694], [1.573],\n",
        "                    [3.366], [2.596], [2.53], [1.221], [2.827],\n",
        "                    [3.465], [1.65], [2.904], [1.3]], dtype=np.float32)"
      ],
      "metadata": {
        "id": "EcDy8ND5ADUR"
      },
      "execution_count": 3,
      "outputs": []
    },
    {
      "cell_type": "code",
      "source": [
        "# 画出图像\n",
        "import matplotlib.pyplot as plt\n",
        "%matplotlib inline\n",
        "\n",
        "plt.plot(x_train, y_train, 'bo')"
      ],
      "metadata": {
        "colab": {
          "base_uri": "https://localhost:8080/",
          "height": 302
        },
        "id": "XqYQsb7YAFoP",
        "outputId": "5d102afc-63a7-46cf-d10f-f1e8341f8c5e"
      },
      "execution_count": 4,
      "outputs": [
        {
          "output_type": "execute_result",
          "data": {
            "text/plain": [
              "[<matplotlib.lines.Line2D at 0x7ff97a306f70>]"
            ]
          },
          "metadata": {},
          "execution_count": 4
        },
        {
          "output_type": "display_data",
          "data": {
            "text/plain": [
              "<Figure size 432x288 with 1 Axes>"
            ],
            "image/png": "[encoded data removed]"
          },
          "metadata": {
            "needs_background": "light"
          }
        }
      ]
    },
    {
      "cell_type": "code",
      "source": [
        "# 转换成 Tensor\n",
        "x_train = torch.from_numpy(x_train)\n",
        "y_train = torch.from_numpy(y_train)\n",
        "\n",
        "# 定义参数 w 和 b\n",
        "w = Variable(torch.randn(1), requires_grad=True) # 随机初始化\n",
        "b = Variable(torch.zeros(1), requires_grad=True) # 使用 0 进行初始化"
      ],
      "metadata": {
        "id": "MDZHsLltAJtr"
      },
      "execution_count": 5,
      "outputs": []
    },
    {
      "cell_type": "code",
      "source": [
        "# 构建线性回归模型\n",
        "x_train = Variable(x_train)\n",
        "y_train = Variable(y_train)\n",
        "\n",
        "def linear_model(x):\n",
        "    return x * w + b"
      ],
      "metadata": {
        "id": "e2aOuIubAP6F"
      },
      "execution_count": 6,
      "outputs": []
    },
    {
      "cell_type": "code",
      "source": [
        "y_ = linear_model(x_train)"
      ],
      "metadata": {
        "id": "L1FURo2sAUP-"
      },
      "execution_count": 7,
      "outputs": []
    },
    {
      "cell_type": "code",
      "source": [
        "plt.plot(x_train.data.numpy(), y_train.data.numpy(), 'bo', label='real')\n",
        "plt.plot(x_train.data.numpy(), y_.data.numpy(), 'ro', label='estimated')\n",
        "plt.legend()"
      ],
      "metadata": {
        "colab": {
          "base_uri": "https://localhost:8080/",
          "height": 302
        },
        "id": "nMPHYVciAYkV",
        "outputId": "49b822eb-3e28-4b7b-fe8c-3315e8bead4d"
      },
      "execution_count": 8,
      "outputs": [
        {
          "output_type": "execute_result",
          "data": {
            "text/plain": [
              "<matplotlib.legend.Legend at 0x7ff9782102e0>"
            ]
          },
          "metadata": {},
          "execution_count": 8
        },
        {
          "output_type": "display_data",
          "data": {
            "text/plain": [
              "<Figure size 432x288 with 1 Axes>"
            ],
            "image/png": "[encoded data removed]"
          },
          "metadata": {
            "needs_background": "light"
          }
        }
      ]
    },
    {
      "cell_type": "code",
      "source": [
        "# 计算误差\n",
        "def get_loss(y_, y):\n",
        "    return torch.mean((y_ - y_train) ** 2)\n",
        "\n",
        "loss = get_loss(y_, y_train)"
      ],
      "metadata": {
        "id": "oPOMx2v-ApO_"
      },
      "execution_count": 9,
      "outputs": []
    },
    {
      "cell_type": "code",
      "source": [
        "# 打印一下看看 loss 的大小\n",
        "print(loss)"
      ],
      "metadata": {
        "colab": {
          "base_uri": "https://localhost:8080/"
        },
        "id": "kmfeUY5rAtS2",
        "outputId": "77197a7e-a166-4ab7-9ca2-1185a127d8f2"
      },
      "execution_count": 10,
      "outputs": [
        {
          "output_type": "stream",
          "name": "stdout",
          "text": [
            "tensor(153.3520, grad_fn=<MeanBackward0>)\n"
          ]
        }
      ]
    },
    {
      "cell_type": "markdown",
      "source": [
        "定义好了误差函数，接下来我们需要计算 w 和 b 的梯度了，这时得益于 PyTorch 的自动求导，我们不需要手动去算梯度，有兴趣的同学可以手动计算一下，w 和 b 的梯度分别是\n",
        "\n",
        "$$\n",
        "\\frac{\\partial}{\\partial w} = \\frac{2}{n} \\sum_{i=1}^n x_i(w x_i + b - y_i) \\\\\n",
        "\\frac{\\partial}{\\partial b} = \\frac{2}{n} \\sum_{i=1}^n (w x_i + b - y_i)\n",
        "$$"
      ],
      "metadata": {
        "id": "JvoxvY6MAyMS"
      }
    },
    {
      "cell_type": "code",
      "source": [
        "# 自动求导\n",
        "loss.backward()"
      ],
      "metadata": {
        "id": "W2IOcxf-Av3K"
      },
      "execution_count": 11,
      "outputs": []
    },
    {
      "cell_type": "code",
      "source": [
        "# 查看 w 和 b 的梯度\n",
        "print(w.grad)\n",
        "print(b.grad)"
      ],
      "metadata": {
        "colab": {
          "base_uri": "https://localhost:8080/"
        },
        "id": "4k8vq1RrA1uf",
        "outputId": "6f79be34-0f7b-40ea-fb8f-95c0a84561be"
      },
      "execution_count": 12,
      "outputs": [
        {
          "output_type": "stream",
          "name": "stdout",
          "text": [
            "tensor([161.0043])\n",
            "tensor([22.8730])\n"
          ]
        }
      ]
    },
    {
      "cell_type": "code",
      "source": [
        "# 更新一次参数\n",
        "w.data = w.data - 1e-2 * w.grad.data\n",
        "b.data = b.data - 1e-2 * b.grad.data"
      ],
      "metadata": {
        "id": "wNrvMFQ1A3nK"
      },
      "execution_count": 13,
      "outputs": []
    },
    {
      "cell_type": "code",
      "source": [
        "y_ = linear_model(x_train)\n",
        "plt.plot(x_train.data.numpy(), y_train.data.numpy(), 'bo', label='real')\n",
        "plt.plot(x_train.data.numpy(), y_.data.numpy(), 'ro', label='estimated')\n",
        "plt.legend()"
      ],
      "metadata": {
        "colab": {
          "base_uri": "https://localhost:8080/",
          "height": 302
        },
        "id": "clREXyiDA__F",
        "outputId": "99f0f87d-38fd-46a8-8d20-65b81d9b924f"
      },
      "execution_count": 15,
      "outputs": [
        {
          "output_type": "execute_result",
          "data": {
            "text/plain": [
              "<matplotlib.legend.Legend at 0x7ff97a391d30>"
            ]
          },
          "metadata": {},
          "execution_count": 15
        },
        {
          "output_type": "display_data",
          "data": {
            "text/plain": [
              "<Figure size 432x288 with 1 Axes>"
            ],
            "image/png": "[encoded data removed]"
          },
          "metadata": {
            "needs_background": "light"
          }
        }
      ]
    },
    {
      "cell_type": "markdown",
      "source": [
        "从上面的例子可以看到，更新之后红色的线跑到了蓝色的线下面，没有特别好的拟合蓝色的真实值，所以我们需要在进行几次更新"
      ],
      "metadata": {
        "id": "U1xZ3H8ABHBA"
      }
    },
    {
      "cell_type": "code",
      "source": [
        "for e in range(10): # 进行 10 次更新\n",
        "    y_ = linear_model(x_train)\n",
        "    loss = get_loss(y_, y_train)\n",
        "    \n",
        "    w.grad.zero_() # 记得归零梯度\n",
        "    b.grad.zero_() # 记得归零梯度\n",
        "    loss.backward()\n",
        "    \n",
        "    w.data = w.data - 1e-2 * w.grad.data # 更新 w\n",
        "    b.data = b.data - 1e-2 * b.grad.data # 更新 b \n",
        "    print('epoch: {}, loss: {}'.format(e, loss.data))"
      ],
      "metadata": {
        "colab": {
          "base_uri": "https://localhost:8080/"
        },
        "id": "iV2o7EgDBDt1",
        "outputId": "35d6746d-aa9a-4289-eebb-7025aa4ad45d"
      },
      "execution_count": 17,
      "outputs": [
        {
          "output_type": "stream",
          "name": "stdout",
          "text": [
            "epoch: 0, loss: 0.3550890386104584\n",
            "epoch: 1, loss: 0.30295437574386597\n",
            "epoch: 2, loss: 0.30131959915161133\n",
            "epoch: 3, loss: 0.3006228804588318\n",
            "epoch: 4, loss: 0.29994693398475647\n",
            "epoch: 5, loss: 0.2992747724056244\n",
            "epoch: 6, loss: 0.2986060082912445\n",
            "epoch: 7, loss: 0.297940731048584\n",
            "epoch: 8, loss: 0.29727885127067566\n",
            "epoch: 9, loss: 0.2966204285621643\n"
          ]
        }
      ]
    },
    {
      "cell_type": "code",
      "source": [
        "y_ = linear_model(x_train)\n",
        "plt.plot(x_train.data.numpy(), y_train.data.numpy(), 'bo', label='real')\n",
        "plt.plot(x_train.data.numpy(), y_.data.numpy(), 'ro', label='estimated')\n",
        "plt.legend()"
      ],
      "metadata": {
        "colab": {
          "base_uri": "https://localhost:8080/",
          "height": 302
        },
        "id": "3le8fVceBO9L",
        "outputId": "25c9f1aa-290b-475a-886d-600011f7f1c7"
      },
      "execution_count": 18,
      "outputs": [
        {
          "output_type": "execute_result",
          "data": {
            "text/plain": [
              "<matplotlib.legend.Legend at 0x7ff9780ccf40>"
            ]
          },
          "metadata": {},
          "execution_count": 18
        },
        {
          "output_type": "display_data",
          "data": {
            "text/plain": [
              "<Figure size 432x288 with 1 Axes>"
            ],
            "image/png": "[encoded data removed]"
          },
          "metadata": {
            "needs_background": "light"
          }
        }
      ]
    },
    {
      "cell_type": "markdown",
      "source": [
        "## 多项式回归"
      ],
      "metadata": {
        "id": "RSJ_Atv9CR3L"
      }
    },
    {
      "cell_type": "markdown",
      "source": [
        "下面我们更进一步，讲一讲多项式回归。什么是多项式回归呢？非常简单，根据上面的线性回归模型\n",
        "\n",
        "$$\n",
        "\\hat{y} = w x + b\n",
        "$$\n",
        "\n",
        "这里是关于 x 的一个一次多项式，这个模型比较简单，没有办法拟合比较复杂的模型，所以我们可以使用更高次的模型，比如\n",
        "\n",
        "$$\n",
        "\\hat{y} = w_0 + w_1 x + w_2 x^2 + w_3 x^3 + \\cdots\n",
        "$$\n",
        "\n",
        "这样就能够拟合更加复杂的模型，这就是多项式模型，这里使用了 x 的更高次，同理还有多元回归模型，形式也是一样的，只是出了使用 x，还是更多的变量，比如 y、z 等等，同时他们的 loss 函数和简单的线性回归模型是一致的。"
      ],
      "metadata": {
        "id": "-ESSyHfbCdLw"
      }
    },
    {
      "cell_type": "code",
      "source": [
        "# 定义一个多变量函数\n",
        "\n",
        "w_target = np.array([0.5, 3, 2.4]) # 定义参数\n",
        "b_target = np.array([0.9]) # 定义参数\n",
        "\n",
        "f_des = 'y = {:.2f} + {:.2f} * x + {:.2f} * x^2 + {:.2f} * x^3'.format(\n",
        "    b_target[0], w_target[0], w_target[1], w_target[2]) # 打印出函数的式子\n",
        "\n",
        "print(f_des)"
      ],
      "metadata": {
        "colab": {
          "base_uri": "https://localhost:8080/"
        },
        "id": "AuFxqGNwBaQP",
        "outputId": "845d29d6-0aff-4218-9c83-fad2de4244aa"
      },
      "execution_count": 19,
      "outputs": [
        {
          "output_type": "stream",
          "name": "stdout",
          "text": [
            "y = 0.90 + 0.50 * x + 3.00 * x^2 + 2.40 * x^3\n"
          ]
        }
      ]
    },
    {
      "cell_type": "code",
      "source": [
        "# 画出这个函数的曲线\n",
        "x_sample = np.arange(-3, 3.1, 0.1)\n",
        "y_sample = b_target[0] + w_target[0] * x_sample + w_target[1] * x_sample ** 2 + w_target[2] * x_sample ** 3\n",
        "\n",
        "plt.plot(x_sample, y_sample, label='real curve')\n",
        "plt.legend()"
      ],
      "metadata": {
        "colab": {
          "base_uri": "https://localhost:8080/",
          "height": 306
        },
        "id": "5Q6k4ax5Cfrb",
        "outputId": "0f7d0c76-05fb-4179-cc77-bd4863ef80ea"
      },
      "execution_count": 20,
      "outputs": [
        {
          "output_type": "execute_result",
          "data": {
            "text/plain": [
              "<matplotlib.legend.Legend at 0x7ff9781afbe0>"
            ]
          },
          "metadata": {},
          "execution_count": 20
        },
        {
          "output_type": "display_data",
          "data": {
            "text/plain": [
              "<Figure size 432x288 with 1 Axes>"
            ],
            "image/png": "[encoded data removed]"
          },
          "metadata": {
            "needs_background": "light"
          }
        }
      ]
    },
    {
      "cell_type": "code",
      "source": [
        "# 构建数据 x 和 y\n",
        "# x 是一个如下矩阵 [x, x^2, x^3]\n",
        "# y 是函数的结果 [y]\n",
        "\n",
        "x_train = np.stack([x_sample ** i for i in range(1, 4)], axis=1)\n",
        "x_train = torch.from_numpy(x_train).float() # 转换成 float tensor\n",
        "\n",
        "y_train = torch.from_numpy(y_sample).float().unsqueeze(1) # 转化成 float tensor "
      ],
      "metadata": {
        "id": "vX05qJrICiiS"
      },
      "execution_count": 21,
      "outputs": []
    },
    {
      "cell_type": "code",
      "source": [
        "# 定义参数和模型\n",
        "w = Variable(torch.randn(3, 1), requires_grad=True)\n",
        "b = Variable(torch.zeros(1), requires_grad=True)\n",
        "\n",
        "# 将 x 和 y 转换成 Variable\n",
        "x_train = Variable(x_train)\n",
        "y_train = Variable(y_train)\n",
        "\n",
        "def multi_linear(x):\n",
        "    return torch.mm(x, w) + b"
      ],
      "metadata": {
        "id": "ijFpyesjCozx"
      },
      "execution_count": 22,
      "outputs": []
    },
    {
      "cell_type": "code",
      "source": [
        "# 画出更新之前的模型\n",
        "y_pred = multi_linear(x_train)\n",
        "\n",
        "plt.plot(x_train.data.numpy()[:, 0], y_pred.data.numpy(), label='fitting curve', color='r')\n",
        "plt.plot(x_train.data.numpy()[:, 0], y_sample, label='real curve', color='b')\n",
        "plt.legend()"
      ],
      "metadata": {
        "colab": {
          "base_uri": "https://localhost:8080/",
          "height": 305
        },
        "id": "vU0MYvB8CvmY",
        "outputId": "39f72fdc-ae2e-41f5-be17-90b196cc797d"
      },
      "execution_count": 24,
      "outputs": [
        {
          "output_type": "execute_result",
          "data": {
            "text/plain": [
              "<matplotlib.legend.Legend at 0x7ff977fccee0>"
            ]
          },
          "metadata": {},
          "execution_count": 24
        },
        {
          "output_type": "display_data",
          "data": {
            "text/plain": [
              "<Figure size 432x288 with 1 Axes>"
            ],
            "image/png": "[encoded data removed]"
          },
          "metadata": {
            "needs_background": "light"
          }
        }
      ]
    },
    {
      "cell_type": "code",
      "source": [
        "# 计算误差，这里的误差和一元的线性模型的误差是相同的，前面已经定义过了 get_loss\n",
        "loss = get_loss(y_pred, y_train)\n",
        "print(loss)"
      ],
      "metadata": {
        "colab": {
          "base_uri": "https://localhost:8080/"
        },
        "id": "BwOh-ZL2DdKv",
        "outputId": "d4ae4c5c-74d5-4d60-809e-2d6ef630119f"
      },
      "execution_count": 25,
      "outputs": [
        {
          "output_type": "stream",
          "name": "stdout",
          "text": [
            "tensor(413.9843, grad_fn=<MeanBackward0>)\n"
          ]
        }
      ]
    },
    {
      "cell_type": "code",
      "source": [
        "# 自动求导\n",
        "loss.backward()\n",
        "# 查看一下 w 和 b 的梯度\n",
        "print(w.grad)\n",
        "print(b.grad)"
      ],
      "metadata": {
        "colab": {
          "base_uri": "https://localhost:8080/"
        },
        "id": "61lIntj3DiDn",
        "outputId": "2ecf2c18-8e86-4362-c11e-6500c0c540b8"
      },
      "execution_count": 26,
      "outputs": [
        {
          "output_type": "stream",
          "name": "stdout",
          "text": [
            "tensor([[ -34.1391],\n",
            "        [-146.6133],\n",
            "        [-215.9149]])\n",
            "tensor([-27.0838])\n"
          ]
        }
      ]
    },
    {
      "cell_type": "code",
      "source": [
        "# 画出更新一次之后的模型\n",
        "y_pred = multi_linear(x_train)\n",
        "\n",
        "plt.plot(x_train.data.numpy()[:, 0], y_pred.data.numpy(), label='fitting curve', color='r')\n",
        "plt.plot(x_train.data.numpy()[:, 0], y_sample, label='real curve', color='b')\n",
        "plt.legend()"
      ],
      "metadata": {
        "colab": {
          "base_uri": "https://localhost:8080/",
          "height": 305
        },
        "id": "fHnJfgvjDlbY",
        "outputId": "d73fc07a-a372-4048-b27c-8f2c12b35028"
      },
      "execution_count": 27,
      "outputs": [
        {
          "output_type": "execute_result",
          "data": {
            "text/plain": [
              "<matplotlib.legend.Legend at 0x7ff9773c3b80>"
            ]
          },
          "metadata": {},
          "execution_count": 27
        },
        {
          "output_type": "display_data",
          "data": {
            "text/plain": [
              "<Figure size 432x288 with 1 Axes>"
            ],
            "image/png": "[encoded data removed]"
          },
          "metadata": {
            "needs_background": "light"
          }
        }
      ]
    },
    {
      "cell_type": "code",
      "source": [
        "# 进行 100 次参数更新\n",
        "for e in range(100):\n",
        "    y_pred = multi_linear(x_train)\n",
        "    loss = get_loss(y_pred, y_train)\n",
        "    \n",
        "    w.grad.data.zero_()\n",
        "    b.grad.data.zero_()\n",
        "    loss.backward()\n",
        "    \n",
        "    # 更新参数\n",
        "    w.data = w.data - 0.001 * w.grad.data\n",
        "    b.data = b.data - 0.001 * b.grad.data # 0.001 is learning rate\n",
        "    if (e + 1) % 20 == 0:\n",
        "        print('epoch {}, Loss: {:.5f}'.format(e+1, loss.data))"
      ],
      "metadata": {
        "colab": {
          "base_uri": "https://localhost:8080/"
        },
        "id": "ms3faOsZDnW4",
        "outputId": "449062b3-d5af-4b01-9614-bb995d7caea7"
      },
      "execution_count": 29,
      "outputs": [
        {
          "output_type": "stream",
          "name": "stdout",
          "text": [
            "epoch 20, Loss: 19.25179\n",
            "epoch 40, Loss: 5.24138\n",
            "epoch 60, Loss: 1.94320\n",
            "epoch 80, Loss: 1.14615\n",
            "epoch 100, Loss: 0.93383\n"
          ]
        }
      ]
    },
    {
      "cell_type": "code",
      "source": [
        "# 画出更新之后的结果\n",
        "y_pred = multi_linear(x_train)\n",
        "\n",
        "plt.plot(x_train.data.numpy()[:, 0], y_pred.data.numpy(), label='fitting curve', color='r')\n",
        "plt.plot(x_train.data.numpy()[:, 0], y_sample, label='real curve', color='b')\n",
        "plt.legend()"
      ],
      "metadata": {
        "colab": {
          "base_uri": "https://localhost:8080/",
          "height": 303
        },
        "id": "cMbZ6h-8DrfB",
        "outputId": "5cfb7283-9b49-4fc4-807a-338ceb044c6a"
      },
      "execution_count": 30,
      "outputs": [
        {
          "output_type": "execute_result",
          "data": {
            "text/plain": [
              "<matplotlib.legend.Legend at 0x7ff97814b5e0>"
            ]
          },
          "metadata": {},
          "execution_count": 30
        },
        {
          "output_type": "display_data",
          "data": {
            "text/plain": [
              "<Figure size 432x288 with 1 Axes>"
            ],
            "image/png": "[encoded data removed]"
          },
          "metadata": {
            "needs_background": "light"
          }
        }
      ]
    },
    {
      "cell_type": "code",
      "source": [],
      "metadata": {
        "id": "xHhAhtIDDvzW"
      },
      "execution_count": null,
      "outputs": []
    }
  ]
}